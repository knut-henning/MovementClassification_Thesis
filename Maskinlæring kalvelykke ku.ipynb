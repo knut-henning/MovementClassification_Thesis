{
 "cells": [
  {
   "cell_type": "markdown",
   "metadata": {},
   "source": [
    "# Maskinlæring kalvelykke ku masteroppgave 2021"
   ]
  },
  {
   "cell_type": "markdown",
   "metadata": {},
   "source": [
    "## Knut-Henning Kofoed | Februar 2021"
   ]
  },
  {
   "cell_type": "markdown",
   "metadata": {},
   "source": [
    "### Import"
   ]
  },
  {
   "cell_type": "code",
   "execution_count": 1,
   "metadata": {},
   "outputs": [],
   "source": [
    "import pandas as pd\n",
    "import numpy as np\n",
    "import matplotlib.pyplot as plt\n",
    "from datetime import datetime"
   ]
  },
  {
   "cell_type": "code",
   "execution_count": 2,
   "metadata": {},
   "outputs": [],
   "source": [
    "import os\n",
    "os.environ[\"CUDA_VISIBLE_DEVICES\"] = \"-1\""
   ]
  },
  {
   "cell_type": "markdown",
   "metadata": {},
   "source": [
    "### Hele datasettet"
   ]
  },
  {
   "cell_type": "markdown",
   "metadata": {},
   "source": [
    "Datasettet inneholder 4 aktivitets klasser: Hviler = 0, Bevegelse = 1, Beiter = 2, Dier = 3"
   ]
  },
  {
   "cell_type": "markdown",
   "metadata": {},
   "source": [
    "#### Utforske data"
   ]
  },
  {
   "cell_type": "code",
   "execution_count": 3,
   "metadata": {},
   "outputs": [
    {
     "name": "stdout",
     "output_type": "stream",
     "text": [
      "Shape of data: (578976, 13)\n"
     ]
    },
    {
     "data": {
      "text/html": [
       "<div>\n",
       "<style scoped>\n",
       "    .dataframe tbody tr th:only-of-type {\n",
       "        vertical-align: middle;\n",
       "    }\n",
       "\n",
       "    .dataframe tbody tr th {\n",
       "        vertical-align: top;\n",
       "    }\n",
       "\n",
       "    .dataframe thead th {\n",
       "        text-align: right;\n",
       "    }\n",
       "</style>\n",
       "<table border=\"1\" class=\"dataframe\">\n",
       "  <thead>\n",
       "    <tr style=\"text-align: right;\">\n",
       "      <th></th>\n",
       "      <th>serial</th>\n",
       "      <th>date</th>\n",
       "      <th>header_date</th>\n",
       "      <th>index</th>\n",
       "      <th>x</th>\n",
       "      <th>y</th>\n",
       "      <th>z</th>\n",
       "      <th>xcal</th>\n",
       "      <th>ycal</th>\n",
       "      <th>zcal</th>\n",
       "      <th>norm</th>\n",
       "      <th>kalv</th>\n",
       "      <th>aktivitet</th>\n",
       "    </tr>\n",
       "  </thead>\n",
       "  <tbody>\n",
       "    <tr>\n",
       "      <th>0</th>\n",
       "      <td>37383</td>\n",
       "      <td>2020-06-18 08:14:53.639</td>\n",
       "      <td>2020-06-18T08:07:07</td>\n",
       "      <td>0</td>\n",
       "      <td>2816</td>\n",
       "      <td>15616</td>\n",
       "      <td>1024</td>\n",
       "      <td>0.176</td>\n",
       "      <td>0.976</td>\n",
       "      <td>0.064</td>\n",
       "      <td>0.993805</td>\n",
       "      <td>True</td>\n",
       "      <td>0</td>\n",
       "    </tr>\n",
       "    <tr>\n",
       "      <th>1</th>\n",
       "      <td>37383</td>\n",
       "      <td>2020-06-18 08:14:53.639</td>\n",
       "      <td>2020-06-18T08:07:07</td>\n",
       "      <td>1</td>\n",
       "      <td>2816</td>\n",
       "      <td>15872</td>\n",
       "      <td>768</td>\n",
       "      <td>0.176</td>\n",
       "      <td>0.992</td>\n",
       "      <td>0.048</td>\n",
       "      <td>1.008635</td>\n",
       "      <td>True</td>\n",
       "      <td>0</td>\n",
       "    </tr>\n",
       "    <tr>\n",
       "      <th>2</th>\n",
       "      <td>37383</td>\n",
       "      <td>2020-06-18 08:14:53.639</td>\n",
       "      <td>2020-06-18T08:07:07</td>\n",
       "      <td>2</td>\n",
       "      <td>3072</td>\n",
       "      <td>15616</td>\n",
       "      <td>768</td>\n",
       "      <td>0.192</td>\n",
       "      <td>0.976</td>\n",
       "      <td>0.048</td>\n",
       "      <td>0.995863</td>\n",
       "      <td>True</td>\n",
       "      <td>0</td>\n",
       "    </tr>\n",
       "    <tr>\n",
       "      <th>3</th>\n",
       "      <td>37383</td>\n",
       "      <td>2020-06-18 08:14:53.639</td>\n",
       "      <td>2020-06-18T08:07:07</td>\n",
       "      <td>3</td>\n",
       "      <td>2560</td>\n",
       "      <td>15872</td>\n",
       "      <td>512</td>\n",
       "      <td>0.160</td>\n",
       "      <td>0.992</td>\n",
       "      <td>0.032</td>\n",
       "      <td>1.005330</td>\n",
       "      <td>True</td>\n",
       "      <td>0</td>\n",
       "    </tr>\n",
       "    <tr>\n",
       "      <th>4</th>\n",
       "      <td>37383</td>\n",
       "      <td>2020-06-18 08:14:53.639</td>\n",
       "      <td>2020-06-18T08:07:07</td>\n",
       "      <td>4</td>\n",
       "      <td>2560</td>\n",
       "      <td>15616</td>\n",
       "      <td>256</td>\n",
       "      <td>0.160</td>\n",
       "      <td>0.976</td>\n",
       "      <td>0.016</td>\n",
       "      <td>0.989157</td>\n",
       "      <td>True</td>\n",
       "      <td>0</td>\n",
       "    </tr>\n",
       "  </tbody>\n",
       "</table>\n",
       "</div>"
      ],
      "text/plain": [
       "   serial                     date          header_date  index     x      y  \\\n",
       "0   37383  2020-06-18 08:14:53.639  2020-06-18T08:07:07      0  2816  15616   \n",
       "1   37383  2020-06-18 08:14:53.639  2020-06-18T08:07:07      1  2816  15872   \n",
       "2   37383  2020-06-18 08:14:53.639  2020-06-18T08:07:07      2  3072  15616   \n",
       "3   37383  2020-06-18 08:14:53.639  2020-06-18T08:07:07      3  2560  15872   \n",
       "4   37383  2020-06-18 08:14:53.639  2020-06-18T08:07:07      4  2560  15616   \n",
       "\n",
       "      z   xcal   ycal   zcal      norm  kalv  aktivitet  \n",
       "0  1024  0.176  0.976  0.064  0.993805  True          0  \n",
       "1   768  0.176  0.992  0.048  1.008635  True          0  \n",
       "2   768  0.192  0.976  0.048  0.995863  True          0  \n",
       "3   512  0.160  0.992  0.032  1.005330  True          0  \n",
       "4   256  0.160  0.976  0.016  0.989157  True          0  "
      ]
     },
     "execution_count": 3,
     "metadata": {},
     "output_type": "execute_result"
    }
   ],
   "source": [
    "# Innlasting av data\n",
    "df = pd.read_csv('aks_atf_KOBLET.csv', header=0)\n",
    "print('Shape of data: {}'.format(df.shape))\n",
    "df.head(5)"
   ]
  },
  {
   "cell_type": "code",
   "execution_count": 4,
   "metadata": {},
   "outputs": [
    {
     "data": {
      "text/html": [
       "<div>\n",
       "<style scoped>\n",
       "    .dataframe tbody tr th:only-of-type {\n",
       "        vertical-align: middle;\n",
       "    }\n",
       "\n",
       "    .dataframe tbody tr th {\n",
       "        vertical-align: top;\n",
       "    }\n",
       "\n",
       "    .dataframe thead th {\n",
       "        text-align: right;\n",
       "    }\n",
       "</style>\n",
       "<table border=\"1\" class=\"dataframe\">\n",
       "  <thead>\n",
       "    <tr style=\"text-align: right;\">\n",
       "      <th></th>\n",
       "      <th>serial</th>\n",
       "      <th>index</th>\n",
       "      <th>x</th>\n",
       "      <th>y</th>\n",
       "      <th>z</th>\n",
       "      <th>xcal</th>\n",
       "      <th>ycal</th>\n",
       "      <th>zcal</th>\n",
       "      <th>norm</th>\n",
       "      <th>aktivitet</th>\n",
       "    </tr>\n",
       "  </thead>\n",
       "  <tbody>\n",
       "    <tr>\n",
       "      <th>count</th>\n",
       "      <td>578976.000000</td>\n",
       "      <td>578976.000000</td>\n",
       "      <td>578976.000000</td>\n",
       "      <td>578976.000000</td>\n",
       "      <td>578976.000000</td>\n",
       "      <td>578976.000000</td>\n",
       "      <td>578976.000000</td>\n",
       "      <td>578976.000000</td>\n",
       "      <td>578976.000000</td>\n",
       "      <td>578976.000000</td>\n",
       "    </tr>\n",
       "    <tr>\n",
       "      <th>mean</th>\n",
       "      <td>37436.310617</td>\n",
       "      <td>15.500000</td>\n",
       "      <td>228.855358</td>\n",
       "      <td>15775.088266</td>\n",
       "      <td>-1436.269939</td>\n",
       "      <td>0.014303</td>\n",
       "      <td>0.985943</td>\n",
       "      <td>-0.089767</td>\n",
       "      <td>1.027856</td>\n",
       "      <td>0.747306</td>\n",
       "    </tr>\n",
       "    <tr>\n",
       "      <th>std</th>\n",
       "      <td>669.714812</td>\n",
       "      <td>9.233101</td>\n",
       "      <td>2429.988354</td>\n",
       "      <td>2627.263979</td>\n",
       "      <td>3564.727227</td>\n",
       "      <td>0.151874</td>\n",
       "      <td>0.164204</td>\n",
       "      <td>0.222795</td>\n",
       "      <td>0.153381</td>\n",
       "      <td>1.010712</td>\n",
       "    </tr>\n",
       "    <tr>\n",
       "      <th>min</th>\n",
       "      <td>35396.000000</td>\n",
       "      <td>0.000000</td>\n",
       "      <td>-32768.000000</td>\n",
       "      <td>-32768.000000</td>\n",
       "      <td>-32768.000000</td>\n",
       "      <td>-2.048000</td>\n",
       "      <td>-2.048000</td>\n",
       "      <td>-2.048000</td>\n",
       "      <td>0.045255</td>\n",
       "      <td>0.000000</td>\n",
       "    </tr>\n",
       "    <tr>\n",
       "      <th>25%</th>\n",
       "      <td>37383.000000</td>\n",
       "      <td>7.750000</td>\n",
       "      <td>-512.000000</td>\n",
       "      <td>14848.000000</td>\n",
       "      <td>-2560.000000</td>\n",
       "      <td>-0.032000</td>\n",
       "      <td>0.928000</td>\n",
       "      <td>-0.160000</td>\n",
       "      <td>0.970344</td>\n",
       "      <td>0.000000</td>\n",
       "    </tr>\n",
       "    <tr>\n",
       "      <th>50%</th>\n",
       "      <td>37684.000000</td>\n",
       "      <td>15.500000</td>\n",
       "      <td>512.000000</td>\n",
       "      <td>15872.000000</td>\n",
       "      <td>-768.000000</td>\n",
       "      <td>0.032000</td>\n",
       "      <td>0.992000</td>\n",
       "      <td>-0.048000</td>\n",
       "      <td>1.011296</td>\n",
       "      <td>0.000000</td>\n",
       "    </tr>\n",
       "    <tr>\n",
       "      <th>75%</th>\n",
       "      <td>37809.000000</td>\n",
       "      <td>23.250000</td>\n",
       "      <td>1280.000000</td>\n",
       "      <td>16640.000000</td>\n",
       "      <td>512.000000</td>\n",
       "      <td>0.080000</td>\n",
       "      <td>1.040000</td>\n",
       "      <td>0.032000</td>\n",
       "      <td>1.068412</td>\n",
       "      <td>2.000000</td>\n",
       "    </tr>\n",
       "    <tr>\n",
       "      <th>max</th>\n",
       "      <td>37809.000000</td>\n",
       "      <td>31.000000</td>\n",
       "      <td>32512.000000</td>\n",
       "      <td>32512.000000</td>\n",
       "      <td>32512.000000</td>\n",
       "      <td>2.032000</td>\n",
       "      <td>2.032000</td>\n",
       "      <td>2.032000</td>\n",
       "      <td>3.547240</td>\n",
       "      <td>3.000000</td>\n",
       "    </tr>\n",
       "  </tbody>\n",
       "</table>\n",
       "</div>"
      ],
      "text/plain": [
       "              serial          index              x              y  \\\n",
       "count  578976.000000  578976.000000  578976.000000  578976.000000   \n",
       "mean    37436.310617      15.500000     228.855358   15775.088266   \n",
       "std       669.714812       9.233101    2429.988354    2627.263979   \n",
       "min     35396.000000       0.000000  -32768.000000  -32768.000000   \n",
       "25%     37383.000000       7.750000    -512.000000   14848.000000   \n",
       "50%     37684.000000      15.500000     512.000000   15872.000000   \n",
       "75%     37809.000000      23.250000    1280.000000   16640.000000   \n",
       "max     37809.000000      31.000000   32512.000000   32512.000000   \n",
       "\n",
       "                   z           xcal           ycal           zcal  \\\n",
       "count  578976.000000  578976.000000  578976.000000  578976.000000   \n",
       "mean    -1436.269939       0.014303       0.985943      -0.089767   \n",
       "std      3564.727227       0.151874       0.164204       0.222795   \n",
       "min    -32768.000000      -2.048000      -2.048000      -2.048000   \n",
       "25%     -2560.000000      -0.032000       0.928000      -0.160000   \n",
       "50%      -768.000000       0.032000       0.992000      -0.048000   \n",
       "75%       512.000000       0.080000       1.040000       0.032000   \n",
       "max     32512.000000       2.032000       2.032000       2.032000   \n",
       "\n",
       "                norm      aktivitet  \n",
       "count  578976.000000  578976.000000  \n",
       "mean        1.027856       0.747306  \n",
       "std         0.153381       1.010712  \n",
       "min         0.045255       0.000000  \n",
       "25%         0.970344       0.000000  \n",
       "50%         1.011296       0.000000  \n",
       "75%         1.068412       2.000000  \n",
       "max         3.547240       3.000000  "
      ]
     },
     "execution_count": 4,
     "metadata": {},
     "output_type": "execute_result"
    }
   ],
   "source": [
    "df.describe()"
   ]
  },
  {
   "cell_type": "code",
   "execution_count": 5,
   "metadata": {},
   "outputs": [
    {
     "data": {
      "image/png": "[encoded data removed]",
      "text/plain": [
       "<Figure size 1008x504 with 1 Axes>"
      ]
     },
     "metadata": {
      "needs_background": "light"
     },
     "output_type": "display_data"
    }
   ],
   "source": [
    "# Klassebalanse for aktivitet (Ku og Kalv)\n",
    "data = df['aktivitet']\n",
    "counts = np.bincount(data)\n",
    "n_classes = len(counts)\n",
    "\n",
    "fig, ax = plt.subplots(figsize=(14,7))\n",
    "ax.bar(range(n_classes), counts, width=0.5, align='center')\n",
    "ax.set(xticks=range(n_classes), xlim=[-1, n_classes])\n",
    "ax.set_xlabel('Klasse')\n",
    "ax.set_ylabel('Antall observasjoner')\n",
    "ax.set_title('Klassebalanse for akselerometerobservasjoner (Ku og Kalv)')\n",
    "\n",
    "plt.show()"
   ]
  },
  {
   "cell_type": "code",
   "execution_count": 6,
   "metadata": {
    "scrolled": false
   },
   "outputs": [
    {
     "data": {
      "image/png": "[encoded data removed]",
      "text/plain": [
       "<Figure size 864x360 with 1 Axes>"
      ]
     },
     "metadata": {
      "needs_background": "light"
     },
     "output_type": "display_data"
    }
   ],
   "source": [
    "# Observasjoner pr klave (Ku og Kalv)\n",
    "df_counts = df['serial'].value_counts()\n",
    "num_coll = len(df_counts) # Antall klaver i settet\n",
    "\n",
    "fig, ax = plt.subplots(figsize=(12,5))\n",
    "ax.bar(range(num_coll), df_counts, width=0.5, align='center')\n",
    "ax.set(xticks=range(num_coll), xlim=[-1, num_coll])\n",
    "ax.set_xticklabels(df_counts.index)\n",
    "ax.set_xlabel('Klave ID')\n",
    "ax.set_ylabel('Antall observasjoner')\n",
    "ax.set_title('Observasjoner per klave (Ku og Kalv)')\n",
    "\n",
    "plt.show()"
   ]
  },
  {
   "cell_type": "markdown",
   "metadata": {},
   "source": [
    "### Ku"
   ]
  },
  {
   "cell_type": "markdown",
   "metadata": {},
   "source": [
    "#### Utforske data"
   ]
  },
  {
   "cell_type": "code",
   "execution_count": 7,
   "metadata": {},
   "outputs": [
    {
     "name": "stdout",
     "output_type": "stream",
     "text": [
      "Shape of data: (391552, 13)\n"
     ]
    }
   ],
   "source": [
    "df_ku = df.loc[df['kalv'] == False]\n",
    "print('Shape of data: {}'.format(df_ku.shape))"
   ]
  },
  {
   "cell_type": "code",
   "execution_count": 8,
   "metadata": {},
   "outputs": [
    {
     "data": {
      "text/html": [
       "<div>\n",
       "<style scoped>\n",
       "    .dataframe tbody tr th:only-of-type {\n",
       "        vertical-align: middle;\n",
       "    }\n",
       "\n",
       "    .dataframe tbody tr th {\n",
       "        vertical-align: top;\n",
       "    }\n",
       "\n",
       "    .dataframe thead th {\n",
       "        text-align: right;\n",
       "    }\n",
       "</style>\n",
       "<table border=\"1\" class=\"dataframe\">\n",
       "  <thead>\n",
       "    <tr style=\"text-align: right;\">\n",
       "      <th></th>\n",
       "      <th>serial</th>\n",
       "      <th>index</th>\n",
       "      <th>x</th>\n",
       "      <th>y</th>\n",
       "      <th>z</th>\n",
       "      <th>xcal</th>\n",
       "      <th>ycal</th>\n",
       "      <th>zcal</th>\n",
       "      <th>norm</th>\n",
       "      <th>aktivitet</th>\n",
       "    </tr>\n",
       "  </thead>\n",
       "  <tbody>\n",
       "    <tr>\n",
       "      <th>count</th>\n",
       "      <td>391552.000000</td>\n",
       "      <td>391552.000000</td>\n",
       "      <td>391552.000000</td>\n",
       "      <td>391552.000000</td>\n",
       "      <td>391552.000000</td>\n",
       "      <td>391552.000000</td>\n",
       "      <td>391552.000000</td>\n",
       "      <td>391552.000000</td>\n",
       "      <td>391552.000000</td>\n",
       "      <td>391552.000000</td>\n",
       "    </tr>\n",
       "    <tr>\n",
       "      <th>mean</th>\n",
       "      <td>37736.445897</td>\n",
       "      <td>15.500000</td>\n",
       "      <td>-93.225891</td>\n",
       "      <td>15942.300098</td>\n",
       "      <td>-550.879372</td>\n",
       "      <td>-0.005827</td>\n",
       "      <td>0.996394</td>\n",
       "      <td>-0.034430</td>\n",
       "      <td>1.025185</td>\n",
       "      <td>0.516182</td>\n",
       "    </tr>\n",
       "    <tr>\n",
       "      <th>std</th>\n",
       "      <td>59.830106</td>\n",
       "      <td>9.233104</td>\n",
       "      <td>2466.766320</td>\n",
       "      <td>2705.315314</td>\n",
       "      <td>2780.611021</td>\n",
       "      <td>0.154173</td>\n",
       "      <td>0.169082</td>\n",
       "      <td>0.173788</td>\n",
       "      <td>0.159924</td>\n",
       "      <td>0.875170</td>\n",
       "    </tr>\n",
       "    <tr>\n",
       "      <th>min</th>\n",
       "      <td>37684.000000</td>\n",
       "      <td>0.000000</td>\n",
       "      <td>-32768.000000</td>\n",
       "      <td>-32768.000000</td>\n",
       "      <td>-32768.000000</td>\n",
       "      <td>-2.048000</td>\n",
       "      <td>-2.048000</td>\n",
       "      <td>-2.048000</td>\n",
       "      <td>0.045255</td>\n",
       "      <td>0.000000</td>\n",
       "    </tr>\n",
       "    <tr>\n",
       "      <th>25%</th>\n",
       "      <td>37684.000000</td>\n",
       "      <td>7.750000</td>\n",
       "      <td>-768.000000</td>\n",
       "      <td>15104.000000</td>\n",
       "      <td>-1792.000000</td>\n",
       "      <td>-0.048000</td>\n",
       "      <td>0.944000</td>\n",
       "      <td>-0.112000</td>\n",
       "      <td>0.965451</td>\n",
       "      <td>0.000000</td>\n",
       "    </tr>\n",
       "    <tr>\n",
       "      <th>50%</th>\n",
       "      <td>37689.000000</td>\n",
       "      <td>15.500000</td>\n",
       "      <td>256.000000</td>\n",
       "      <td>16128.000000</td>\n",
       "      <td>-512.000000</td>\n",
       "      <td>0.016000</td>\n",
       "      <td>1.008000</td>\n",
       "      <td>-0.032000</td>\n",
       "      <td>1.010536</td>\n",
       "      <td>0.000000</td>\n",
       "    </tr>\n",
       "    <tr>\n",
       "      <th>75%</th>\n",
       "      <td>37809.000000</td>\n",
       "      <td>23.250000</td>\n",
       "      <td>1024.000000</td>\n",
       "      <td>16896.000000</td>\n",
       "      <td>768.000000</td>\n",
       "      <td>0.064000</td>\n",
       "      <td>1.056000</td>\n",
       "      <td>0.048000</td>\n",
       "      <td>1.072119</td>\n",
       "      <td>2.000000</td>\n",
       "    </tr>\n",
       "    <tr>\n",
       "      <th>max</th>\n",
       "      <td>37809.000000</td>\n",
       "      <td>31.000000</td>\n",
       "      <td>32512.000000</td>\n",
       "      <td>32512.000000</td>\n",
       "      <td>32512.000000</td>\n",
       "      <td>2.032000</td>\n",
       "      <td>2.032000</td>\n",
       "      <td>2.032000</td>\n",
       "      <td>3.547240</td>\n",
       "      <td>2.000000</td>\n",
       "    </tr>\n",
       "  </tbody>\n",
       "</table>\n",
       "</div>"
      ],
      "text/plain": [
       "              serial          index              x              y  \\\n",
       "count  391552.000000  391552.000000  391552.000000  391552.000000   \n",
       "mean    37736.445897      15.500000     -93.225891   15942.300098   \n",
       "std        59.830106       9.233104    2466.766320    2705.315314   \n",
       "min     37684.000000       0.000000  -32768.000000  -32768.000000   \n",
       "25%     37684.000000       7.750000    -768.000000   15104.000000   \n",
       "50%     37689.000000      15.500000     256.000000   16128.000000   \n",
       "75%     37809.000000      23.250000    1024.000000   16896.000000   \n",
       "max     37809.000000      31.000000   32512.000000   32512.000000   \n",
       "\n",
       "                   z           xcal           ycal           zcal  \\\n",
       "count  391552.000000  391552.000000  391552.000000  391552.000000   \n",
       "mean     -550.879372      -0.005827       0.996394      -0.034430   \n",
       "std      2780.611021       0.154173       0.169082       0.173788   \n",
       "min    -32768.000000      -2.048000      -2.048000      -2.048000   \n",
       "25%     -1792.000000      -0.048000       0.944000      -0.112000   \n",
       "50%      -512.000000       0.016000       1.008000      -0.032000   \n",
       "75%       768.000000       0.064000       1.056000       0.048000   \n",
       "max     32512.000000       2.032000       2.032000       2.032000   \n",
       "\n",
       "                norm      aktivitet  \n",
       "count  391552.000000  391552.000000  \n",
       "mean        1.025185       0.516182  \n",
       "std         0.159924       0.875170  \n",
       "min         0.045255       0.000000  \n",
       "25%         0.965451       0.000000  \n",
       "50%         1.010536       0.000000  \n",
       "75%         1.072119       2.000000  \n",
       "max         3.547240       2.000000  "
      ]
     },
     "execution_count": 8,
     "metadata": {},
     "output_type": "execute_result"
    }
   ],
   "source": [
    "df_ku.describe()"
   ]
  },
  {
   "cell_type": "code",
   "execution_count": 9,
   "metadata": {},
   "outputs": [
    {
     "data": {
      "image/png": "[encoded data removed]",
      "text/plain": [
       "<Figure size 1008x504 with 1 Axes>"
      ]
     },
     "metadata": {
      "needs_background": "light"
     },
     "output_type": "display_data"
    }
   ],
   "source": [
    "# Klassebalanse for aktivitet (Ku)\n",
    "data = df_ku['aktivitet']\n",
    "counts = np.bincount(data)\n",
    "n_classes = len(counts)\n",
    "\n",
    "fig, ax = plt.subplots(figsize=(14,7))\n",
    "ax.bar(range(n_classes), counts, width=0.5, align='center')\n",
    "ax.set(xticks=range(n_classes), xlim=[-1, n_classes])\n",
    "ax.set_xlabel('Klasse')\n",
    "ax.set_ylabel('Antall observasjoner')\n",
    "ax.set_title('Klassebalanse for akselerometerobservasjoner Ku')\n",
    "\n",
    "plt.show()"
   ]
  },
  {
   "cell_type": "code",
   "execution_count": 10,
   "metadata": {
    "scrolled": false
   },
   "outputs": [
    {
     "data": {
      "image/png": "[encoded data removed]",
      "text/plain": [
       "<Figure size 864x360 with 1 Axes>"
      ]
     },
     "metadata": {
      "needs_background": "light"
     },
     "output_type": "display_data"
    }
   ],
   "source": [
    "# Observasjoner pr klave (Ku)\n",
    "df_counts = df_ku['serial'].value_counts()\n",
    "num_coll = len(df_counts) # Antall klaver i settet\n",
    "\n",
    "fig, ax = plt.subplots(figsize=(12,5))\n",
    "ax.bar(range(num_coll), df_counts, width=0.5, align='center')\n",
    "ax.set(xticks=range(num_coll), xlim=[-1, num_coll])\n",
    "ax.set_xticklabels(df_counts.index)\n",
    "ax.set_xlabel('Klave ID')\n",
    "ax.set_ylabel('Antall observasjoner')\n",
    "ax.set_title('Observasjoner per klave (Ku)')\n",
    "\n",
    "plt.show()"
   ]
  },
  {
   "cell_type": "code",
   "execution_count": 11,
   "metadata": {},
   "outputs": [
    {
     "data": {
      "image/png": "[encoded data removed]",
      "text/plain": [
       "<Figure size 1008x360 with 1 Axes>"
      ]
     },
     "metadata": {
      "needs_background": "light"
     },
     "output_type": "display_data"
    },
    {
     "data": {
      "image/png": "[encoded data removed]",
      "text/plain": [
       "<Figure size 1008x360 with 1 Axes>"
      ]
     },
     "metadata": {
      "needs_background": "light"
     },
     "output_type": "display_data"
    },
    {
     "data": {
      "image/png": "[encoded data removed]",
      "text/plain": [
       "<Figure size 1008x360 with 1 Axes>"
      ]
     },
     "metadata": {
      "needs_background": "light"
     },
     "output_type": "display_data"
    },
    {
     "data": {
      "image/png": "[encoded data removed]",
      "text/plain": [
       "<Figure size 1008x360 with 1 Axes>"
      ]
     },
     "metadata": {
      "needs_background": "light"
     },
     "output_type": "display_data"
    }
   ],
   "source": [
    "# Klassebalanse for for hver klave (Ku)\n",
    "serials = list(df_ku['serial'].unique())\n",
    "\n",
    "for serial in serials:\n",
    "    data = df_ku['aktivitet'][df_ku['serial'] == serial] \n",
    "    counts = np.bincount(data)\n",
    "    n_classes = len(counts)\n",
    "\n",
    "    fig, ax = plt.subplots(figsize=(14,5))\n",
    "    ax.bar(range(n_classes), counts, width=0.5, align='center')\n",
    "    ax.set(xticks=range(n_classes), xlim=[-1, n_classes])\n",
    "    ax.set_xlabel('Klasse')\n",
    "    ax.set_ylabel('Antall observasjoner')\n",
    "    ax.set_title('Klassebalanse for akselerometerobservasjoner Ku med ID: {}'.format(serial))\n",
    "\n",
    "    plt.show()"
   ]
  },
  {
   "cell_type": "markdown",
   "metadata": {},
   "source": [
    "#### Maskinlæring"
   ]
  },
  {
   "cell_type": "markdown",
   "metadata": {},
   "source": [
    "Import"
   ]
  },
  {
   "cell_type": "code",
   "execution_count": 12,
   "metadata": {
    "scrolled": false
   },
   "outputs": [],
   "source": [
    "import tensorflow as tf\n",
    "from sklearn.preprocessing import OneHotEncoder\n",
    "from tensorflow.keras.optimizers import Adam\n",
    "from sklearn.preprocessing import RobustScaler, StandardScaler, MinMaxScaler\n",
    "from sklearn.metrics import confusion_matrix\n",
    "from scipy import stats"
   ]
  },
  {
   "cell_type": "markdown",
   "metadata": {},
   "source": [
    "Dataklargjøring"
   ]
  },
  {
   "cell_type": "code",
   "execution_count": 13,
   "metadata": {},
   "outputs": [
    {
     "name": "stderr",
     "output_type": "stream",
     "text": [
      "C:\\Users\\knut-\\Anaconda3\\lib\\site-packages\\pandas\\core\\series.py:4512: SettingWithCopyWarning: \n",
      "A value is trying to be set on a copy of a slice from a DataFrame\n",
      "\n",
      "See the caveats in the documentation: https://pandas.pydata.org/pandas-docs/stable/user_guide/indexing.html#returning-a-view-versus-a-copy\n",
      "  method=method,\n"
     ]
    }
   ],
   "source": [
    "attributes = ['xcal', 'ycal', 'zcal', 'norm']\n",
    "df_ku['aktivitet'].replace({2: 1}, inplace=True)\n",
    "\n",
    "df_train = df_ku[(df_ku['serial'] == 37689)]\n",
    "df_train = df_train.head(100000)\n",
    "df_test = df_ku[df_ku['serial'] == 37684]\n",
    "\n",
    "input_train = df_train[attributes]\n",
    "y_train = df_train['aktivitet']\n",
    "\n",
    "input_test = df_test[attributes]\n",
    "y_test = df_test['aktivitet']"
   ]
  },
  {
   "cell_type": "code",
   "execution_count": 14,
   "metadata": {
    "scrolled": true
   },
   "outputs": [
    {
     "name": "stderr",
     "output_type": "stream",
     "text": [
      "C:\\Users\\knut-\\Anaconda3\\lib\\site-packages\\pandas\\core\\indexing.py:1637: SettingWithCopyWarning: \n",
      "A value is trying to be set on a copy of a slice from a DataFrame\n",
      "\n",
      "See the caveats in the documentation: https://pandas.pydata.org/pandas-docs/stable/user_guide/indexing.html#returning-a-view-versus-a-copy\n",
      "  self._setitem_single_block(indexer, value, name)\n",
      "C:\\Users\\knut-\\Anaconda3\\lib\\site-packages\\pandas\\core\\indexing.py:692: SettingWithCopyWarning: \n",
      "A value is trying to be set on a copy of a slice from a DataFrame\n",
      "\n",
      "See the caveats in the documentation: https://pandas.pydata.org/pandas-docs/stable/user_guide/indexing.html#returning-a-view-versus-a-copy\n",
      "  iloc._setitem_with_indexer(indexer, value, self.name)\n",
      "C:\\Users\\knut-\\Anaconda3\\lib\\site-packages\\pandas\\core\\indexing.py:1637: SettingWithCopyWarning: \n",
      "A value is trying to be set on a copy of a slice from a DataFrame\n",
      "\n",
      "See the caveats in the documentation: https://pandas.pydata.org/pandas-docs/stable/user_guide/indexing.html#returning-a-view-versus-a-copy\n",
      "  self._setitem_single_block(indexer, value, name)\n",
      "C:\\Users\\knut-\\Anaconda3\\lib\\site-packages\\pandas\\core\\indexing.py:692: SettingWithCopyWarning: \n",
      "A value is trying to be set on a copy of a slice from a DataFrame\n",
      "\n",
      "See the caveats in the documentation: https://pandas.pydata.org/pandas-docs/stable/user_guide/indexing.html#returning-a-view-versus-a-copy\n",
      "  iloc._setitem_with_indexer(indexer, value, self.name)\n"
     ]
    }
   ],
   "source": [
    "scale_columns = attributes\n",
    "\n",
    "scaler = StandardScaler()\n",
    "\n",
    "scaler = scaler.fit(input_train[scale_columns])\n",
    "\n",
    "input_train.loc[:, scale_columns] = scaler.transform(input_train[scale_columns].to_numpy())\n",
    "input_test.loc[:, scale_columns] = scaler.transform(input_test[scale_columns].to_numpy())"
   ]
  },
  {
   "cell_type": "code",
   "execution_count": 15,
   "metadata": {},
   "outputs": [],
   "source": [
    "def create_dataset(X, y, time_steps=1, step=1):\n",
    "    Xs, ys = [], []\n",
    "    for i in range(0, len(X) - time_steps, step):\n",
    "        v = X.iloc[i:(i + time_steps)].values\n",
    "        labels = y.iloc[i: i + time_steps]\n",
    "        Xs.append(v)\n",
    "        ys.append(stats.mode(labels)[0][0])\n",
    "    return np.array(Xs), np.array(ys).reshape(-1, 1)"
   ]
  },
  {
   "cell_type": "code",
   "execution_count": 16,
   "metadata": {},
   "outputs": [
    {
     "name": "stdout",
     "output_type": "stream",
     "text": [
      "(100000, 4) (100000,)\n"
     ]
    }
   ],
   "source": [
    "print(input_train.shape, y_train.shape)"
   ]
  },
  {
   "cell_type": "code",
   "execution_count": 17,
   "metadata": {},
   "outputs": [],
   "source": [
    "TIME_STEPS = 124\n",
    "STEP = 62\n",
    "\n",
    "input_train, y_train = create_dataset(\n",
    "    input_train[attributes],\n",
    "    y_train,\n",
    "    TIME_STEPS,\n",
    "    STEP\n",
    ")\n",
    "\n",
    "input_test, y_test = create_dataset(\n",
    "    input_test[attributes],\n",
    "    y_test,\n",
    "    TIME_STEPS,\n",
    "    STEP\n",
    ")"
   ]
  },
  {
   "cell_type": "code",
   "execution_count": 18,
   "metadata": {},
   "outputs": [
    {
     "name": "stdout",
     "output_type": "stream",
     "text": [
      "(1611, 124, 4) (1611, 1)\n"
     ]
    }
   ],
   "source": [
    "print(input_train.shape, y_train.shape)"
   ]
  },
  {
   "cell_type": "code",
   "execution_count": 19,
   "metadata": {},
   "outputs": [],
   "source": [
    "enc = OneHotEncoder(handle_unknown='ignore', sparse=False)\n",
    "\n",
    "enc = enc.fit(y_train)\n",
    "\n",
    "y_train = enc.transform(y_train)\n",
    "y_test = enc.transform(y_test)"
   ]
  },
  {
   "cell_type": "code",
   "execution_count": 20,
   "metadata": {},
   "outputs": [
    {
     "name": "stdout",
     "output_type": "stream",
     "text": [
      "(1611, 124, 4) (1611, 2)\n"
     ]
    }
   ],
   "source": [
    "print(input_train.shape, y_train.shape)"
   ]
  },
  {
   "cell_type": "markdown",
   "metadata": {},
   "source": [
    "GRU:"
   ]
  },
  {
   "cell_type": "code",
   "execution_count": 21,
   "metadata": {},
   "outputs": [],
   "source": [
    "model = tf.keras.Sequential()\n",
    "model.add(\n",
    "    tf.keras.layers.Conv1D(\n",
    "        filters=100, \n",
    "        kernel_size=3,\n",
    "        activation='relu',\n",
    "        input_shape=[input_train.shape[1], input_train.shape[2]]\n",
    "    )\n",
    ")\n",
    "model.add(tf.keras.layers.MaxPooling1D(pool_size=4, padding='valid'))\n",
    "model.add(tf.keras.layers.BatchNormalization())\n",
    "model.add(\n",
    "    tf.keras.layers.Conv1D(\n",
    "        filters=100, \n",
    "        kernel_size=3,\n",
    "        activation='relu'\n",
    "    )\n",
    ")\n",
    "model.add(tf.keras.layers.MaxPooling1D(pool_size=2, padding='valid'))\n",
    "model.add(tf.keras.layers.BatchNormalization())\n",
    "model.add(\n",
    "    tf.keras.layers.GRU(\n",
    "        units=128,\n",
    "        activation='tanh',\n",
    "        recurrent_activation='sigmoid',\n",
    "        use_bias=True,\n",
    "        kernel_initializer='glorot_uniform',\n",
    "        return_sequences=True,  # neste lag er også GRU\n",
    "        dropout=0.0,\n",
    "        recurrent_dropout=0.0\n",
    "    )\n",
    ")\n",
    "model.add(\n",
    "    tf.keras.layers.GRU(\n",
    "        units=128,\n",
    "        activation='tanh',\n",
    "        recurrent_activation='sigmoid',\n",
    "        use_bias=True,\n",
    "        kernel_initializer='glorot_uniform',\n",
    "        return_sequences=False,  # neste lag er Dense\n",
    "        dropout=0.2,\n",
    "        recurrent_dropout=0.2\n",
    "    )\n",
    ")\n",
    "\n",
    "model.add(tf.keras.layers.Dropout(rate=0.1))\n",
    "\n",
    "model.add(tf.keras.layers.Dense(y_train.shape[1], activation='softmax'))\n",
    "model.compile(loss='categorical_crossentropy', optimizer=Adam(lr=0.001), metrics=['acc'])"
   ]
  },
  {
   "cell_type": "code",
   "execution_count": 22,
   "metadata": {},
   "outputs": [
    {
     "name": "stdout",
     "output_type": "stream",
     "text": [
      "Epoch 1/2\n",
      "12/12 [==============================] - 2s 169ms/step - loss: 0.7355 - acc: 0.5735 - val_loss: 0.5697 - val_acc: 0.6049\n",
      "Epoch 2/2\n",
      "12/12 [==============================] - 1s 89ms/step - loss: 0.5163 - acc: 0.7978 - val_loss: 0.3887 - val_acc: 0.9259\n"
     ]
    }
   ],
   "source": [
    "history = model.fit(\n",
    "    input_train, y_train,\n",
    "    epochs=2,\n",
    "    batch_size=128,\n",
    "    validation_split=0.1,\n",
    "    shuffle=False\n",
    ")"
   ]
  },
  {
   "cell_type": "code",
   "execution_count": 23,
   "metadata": {},
   "outputs": [
    {
     "data": {
      "image/png": "[encoded data removed]",
      "text/plain": [
       "<Figure size 432x288 with 1 Axes>"
      ]
     },
     "metadata": {
      "needs_background": "light"
     },
     "output_type": "display_data"
    },
    {
     "data": {
      "image/png": "[encoded data removed]",
      "text/plain": [
       "<Figure size 432x288 with 1 Axes>"
      ]
     },
     "metadata": {
      "needs_background": "light"
     },
     "output_type": "display_data"
    }
   ],
   "source": [
    "plt.plot(history.history['loss'], label='train')\n",
    "plt.plot(history.history['val_loss'], label='validation')\n",
    "plt.title('Loss')\n",
    "plt.legend();\n",
    "plt.show()\n",
    "\n",
    "plt.plot(history.history['acc'], label='train')\n",
    "plt.plot(history.history['val_acc'], label='validation')\n",
    "plt.title('Acc')\n",
    "plt.legend();\n",
    "plt.show()"
   ]
  },
  {
   "cell_type": "code",
   "execution_count": 24,
   "metadata": {},
   "outputs": [
    {
     "name": "stdout",
     "output_type": "stream",
     "text": [
      "55/55 [==============================] - 0s 9ms/step - loss: 0.6437 - acc: 0.6746\n"
     ]
    },
    {
     "data": {
      "text/plain": [
       "[0.6436617374420166, 0.674643874168396]"
      ]
     },
     "execution_count": 24,
     "metadata": {},
     "output_type": "execute_result"
    }
   ],
   "source": [
    "model.evaluate(input_test, y_test)"
   ]
  },
  {
   "cell_type": "code",
   "execution_count": 25,
   "metadata": {
    "scrolled": true
   },
   "outputs": [
    {
     "data": {
      "image/png": "[encoded data removed]",
      "text/plain": [
       "<Figure size 864x576 with 2 Axes>"
      ]
     },
     "metadata": {
      "needs_background": "light"
     },
     "output_type": "display_data"
    }
   ],
   "source": [
    "Y_test = np.argmax(y_test, axis=1) # Konverterer fra Onehot tilbake til klasse\n",
    "y_pred = np.argmax(model.predict(input_test), axis=-1)\n",
    "classes = ['Hviler', 'Beiter']\n",
    "\n",
    "plt.figure(figsize=(12,8))\n",
    "plt.imshow(confusion_matrix(Y_test, y_pred), interpolation='nearest', cmap='YlOrRd')\n",
    "plt.title('Confusion matrix')\n",
    "plt.colorbar()\n",
    "tick_marks = np.arange(len(classes))\n",
    "plt.xticks(tick_marks, classes, rotation=45)\n",
    "plt.yticks(tick_marks, classes)\n",
    "plt.ylabel('True label')\n",
    "plt.xlabel('Predicted label')\n",
    "plt.tight_layout();"
   ]
  },
  {
   "cell_type": "markdown",
   "metadata": {},
   "source": [
    "LSTM:"
   ]
  },
  {
   "cell_type": "code",
   "execution_count": 26,
   "metadata": {},
   "outputs": [],
   "source": [
    "model = tf.keras.Sequential()\n",
    "model.add(\n",
    "    tf.keras.layers.Bidirectional(\n",
    "        tf.keras.layers.LSTM(\n",
    "            dropout=0.2,\n",
    "            units=128, \n",
    "            input_shape=[input_train.shape[1], input_train.shape[2]],\n",
    "            return_sequences=True\n",
    "        )\n",
    "    )\n",
    ")\n",
    "model.add(\n",
    "    tf.keras.layers.Bidirectional(\n",
    "        tf.keras.layers.LSTM(\n",
    "            dropout=0.2,\n",
    "            units=128,\n",
    "            return_sequences=False\n",
    "        )\n",
    "    )\n",
    ")\n",
    "\n",
    "model.add(tf.keras.layers.Flatten())\n",
    "model.add(tf.keras.layers.Dense(units=5, activation='relu'))\n",
    "model.add(tf.keras.layers.Dropout(rate=0.2))\n",
    "model.add(tf.keras.layers.Dense(y_train.shape[1], activation='softmax'))\n",
    "model.compile(loss='categorical_crossentropy', optimizer=Adam(lr=0.001), metrics=['acc'])"
   ]
  },
  {
   "cell_type": "code",
   "execution_count": 27,
   "metadata": {},
   "outputs": [
    {
     "name": "stdout",
     "output_type": "stream",
     "text": [
      "Epoch 1/2\n",
      "12/12 [==============================] - 15s 1s/step - loss: 0.6789 - acc: 0.8081 - val_loss: 0.4034 - val_acc: 0.9506\n",
      "Epoch 2/2\n",
      "12/12 [==============================] - 15s 1s/step - loss: 0.2294 - acc: 0.9476 - val_loss: 0.3026 - val_acc: 0.9136\n"
     ]
    }
   ],
   "source": [
    "history = model.fit(\n",
    "    input_train, y_train,\n",
    "    epochs=2,\n",
    "    batch_size=128,\n",
    "    validation_split=0.1,\n",
    "    shuffle=False\n",
    ")"
   ]
  },
  {
   "cell_type": "code",
   "execution_count": 28,
   "metadata": {},
   "outputs": [
    {
     "data": {
      "image/png": "[encoded data removed]",
      "text/plain": [
       "<Figure size 432x288 with 1 Axes>"
      ]
     },
     "metadata": {
      "needs_background": "light"
     },
     "output_type": "display_data"
    },
    {
     "data": {
      "image/png": "[encoded data removed]",
      "text/plain": [
       "<Figure size 432x288 with 1 Axes>"
      ]
     },
     "metadata": {
      "needs_background": "light"
     },
     "output_type": "display_data"
    }
   ],
   "source": [
    "plt.plot(history.history['loss'], label='train')\n",
    "plt.plot(history.history['val_loss'], label='validation')\n",
    "plt.title('Loss')\n",
    "plt.legend();\n",
    "plt.show()\n",
    "\n",
    "plt.plot(history.history['acc'], label='train')\n",
    "plt.plot(history.history['val_acc'], label='validation')\n",
    "plt.title('Acc')\n",
    "plt.legend();\n",
    "plt.show()"
   ]
  },
  {
   "cell_type": "code",
   "execution_count": 29,
   "metadata": {},
   "outputs": [
    {
     "name": "stdout",
     "output_type": "stream",
     "text": [
      "55/55 [==============================] - 5s 98ms/step - loss: 1.4594 - acc: 0.6450\n"
     ]
    },
    {
     "data": {
      "text/plain": [
       "[1.45939040184021, 0.645014226436615]"
      ]
     },
     "execution_count": 29,
     "metadata": {},
     "output_type": "execute_result"
    }
   ],
   "source": [
    "model.evaluate(input_test, y_test)"
   ]
  },
  {
   "cell_type": "code",
   "execution_count": 30,
   "metadata": {},
   "outputs": [
    {
     "data": {
      "image/png": "[encoded data removed]",
      "text/plain": [
       "<Figure size 864x576 with 2 Axes>"
      ]
     },
     "metadata": {
      "needs_background": "light"
     },
     "output_type": "display_data"
    }
   ],
   "source": [
    "Y_test = np.argmax(y_test, axis=1) # Konverterer fra Onehot tilbake til klasse\n",
    "y_pred = np.argmax(model.predict(input_test), axis=-1)\n",
    "classes = ['Hviler', 'Beiter']\n",
    "\n",
    "plt.figure(figsize=(12,8))\n",
    "plt.imshow(confusion_matrix(Y_test, y_pred), interpolation='nearest', cmap='YlOrRd')\n",
    "plt.title('Confusion matrix')\n",
    "plt.colorbar()\n",
    "tick_marks = np.arange(len(classes))\n",
    "plt.xticks(tick_marks, classes, rotation=45)\n",
    "plt.yticks(tick_marks, classes)\n",
    "plt.ylabel('True label')\n",
    "plt.xlabel('Predicted label')\n",
    "plt.tight_layout();"
   ]
  },
  {
   "cell_type": "code",
   "execution_count": null,
   "metadata": {},
   "outputs": [],
   "source": []
  },
  {
   "cell_type": "code",
   "execution_count": null,
   "metadata": {},
   "outputs": [],
   "source": []
  },
  {
   "cell_type": "code",
   "execution_count": null,
   "metadata": {},
   "outputs": [],
   "source": []
  }
 ],
 "metadata": {
  "kernelspec": {
   "display_name": "Python 3",
   "language": "python",
   "name": "python3"
  },
  "language_info": {
   "codemirror_mode": {
    "name": "ipython",
    "version": 3
   },
   "file_extension": ".py",
   "mimetype": "text/x-python",
   "name": "python",
   "nbconvert_exporter": "python",
   "pygments_lexer": "ipython3",
   "version": "3.7.9"
  }
 },
 "nbformat": 4,
 "nbformat_minor": 4
}
