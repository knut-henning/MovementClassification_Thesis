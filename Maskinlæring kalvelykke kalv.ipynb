{
 "cells": [
  {
   "cell_type": "markdown",
   "id": "automated-skirt",
   "metadata": {},
   "source": [
    "# Maskinlæring kalvelykke kalv masteroppgave 2021"
   ]
  },
  {
   "cell_type": "markdown",
   "id": "exceptional-stations",
   "metadata": {},
   "source": [
    "## Knut-Henning Kofoed | Februar 2021"
   ]
  },
  {
   "cell_type": "markdown",
   "id": "impossible-pulse",
   "metadata": {},
   "source": [
    "### Import"
   ]
  },
  {
   "cell_type": "code",
   "execution_count": 1,
   "id": "aquatic-universe",
   "metadata": {},
   "outputs": [],
   "source": [
    "import pandas as pd\n",
    "import numpy as np\n",
    "import matplotlib.pyplot as plt\n",
    "from datetime import datetime"
   ]
  },
  {
   "cell_type": "markdown",
   "id": "sought-final",
   "metadata": {},
   "source": [
    "### Hele datasettet"
   ]
  },
  {
   "cell_type": "markdown",
   "id": "dramatic-hours",
   "metadata": {},
   "source": [
    "Datasettet inneholder 4 aktivitets klasser: Hviler = 0, Bevegelse = 1, Beiter = 2, Dier = 3"
   ]
  },
  {
   "cell_type": "markdown",
   "id": "medieval-distinction",
   "metadata": {},
   "source": [
    "#### Utforske data"
   ]
  },
  {
   "cell_type": "code",
   "execution_count": 2,
   "id": "hearing-scene",
   "metadata": {},
   "outputs": [
    {
     "name": "stdout",
     "output_type": "stream",
     "text": [
      "Shape of data: (102656, 13)\n"
     ]
    },
    {
     "data": {
      "text/html": [
       "<div>\n",
       "<style scoped>\n",
       "    .dataframe tbody tr th:only-of-type {\n",
       "        vertical-align: middle;\n",
       "    }\n",
       "\n",
       "    .dataframe tbody tr th {\n",
       "        vertical-align: top;\n",
       "    }\n",
       "\n",
       "    .dataframe thead th {\n",
       "        text-align: right;\n",
       "    }\n",
       "</style>\n",
       "<table border=\"1\" class=\"dataframe\">\n",
       "  <thead>\n",
       "    <tr style=\"text-align: right;\">\n",
       "      <th></th>\n",
       "      <th>serial</th>\n",
       "      <th>date</th>\n",
       "      <th>header_date</th>\n",
       "      <th>index</th>\n",
       "      <th>x</th>\n",
       "      <th>y</th>\n",
       "      <th>z</th>\n",
       "      <th>xcal</th>\n",
       "      <th>ycal</th>\n",
       "      <th>zcal</th>\n",
       "      <th>norm</th>\n",
       "      <th>kalv</th>\n",
       "      <th>aktivitet</th>\n",
       "    </tr>\n",
       "  </thead>\n",
       "  <tbody>\n",
       "    <tr>\n",
       "      <th>0</th>\n",
       "      <td>35396</td>\n",
       "      <td>2020-08-23 14:41:08.412000</td>\n",
       "      <td>2020-08-23 14:40:17</td>\n",
       "      <td>0</td>\n",
       "      <td>2304</td>\n",
       "      <td>15872</td>\n",
       "      <td>-512</td>\n",
       "      <td>0.144</td>\n",
       "      <td>0.992</td>\n",
       "      <td>-0.032</td>\n",
       "      <td>1.002908</td>\n",
       "      <td>True</td>\n",
       "      <td>0</td>\n",
       "    </tr>\n",
       "    <tr>\n",
       "      <th>1</th>\n",
       "      <td>35396</td>\n",
       "      <td>2020-08-23 14:41:08.412000</td>\n",
       "      <td>2020-08-23 14:40:17</td>\n",
       "      <td>1</td>\n",
       "      <td>4608</td>\n",
       "      <td>17152</td>\n",
       "      <td>1280</td>\n",
       "      <td>0.288</td>\n",
       "      <td>1.072</td>\n",
       "      <td>0.080</td>\n",
       "      <td>1.112892</td>\n",
       "      <td>True</td>\n",
       "      <td>0</td>\n",
       "    </tr>\n",
       "    <tr>\n",
       "      <th>2</th>\n",
       "      <td>35396</td>\n",
       "      <td>2020-08-23 14:41:08.412000</td>\n",
       "      <td>2020-08-23 14:40:17</td>\n",
       "      <td>2</td>\n",
       "      <td>768</td>\n",
       "      <td>14336</td>\n",
       "      <td>1024</td>\n",
       "      <td>0.048</td>\n",
       "      <td>0.896</td>\n",
       "      <td>0.064</td>\n",
       "      <td>0.899564</td>\n",
       "      <td>True</td>\n",
       "      <td>0</td>\n",
       "    </tr>\n",
       "    <tr>\n",
       "      <th>3</th>\n",
       "      <td>35396</td>\n",
       "      <td>2020-08-23 14:41:08.412000</td>\n",
       "      <td>2020-08-23 14:40:17</td>\n",
       "      <td>3</td>\n",
       "      <td>2304</td>\n",
       "      <td>16384</td>\n",
       "      <td>-768</td>\n",
       "      <td>0.144</td>\n",
       "      <td>1.024</td>\n",
       "      <td>-0.048</td>\n",
       "      <td>1.035189</td>\n",
       "      <td>True</td>\n",
       "      <td>0</td>\n",
       "    </tr>\n",
       "    <tr>\n",
       "      <th>4</th>\n",
       "      <td>35396</td>\n",
       "      <td>2020-08-23 14:41:08.412000</td>\n",
       "      <td>2020-08-23 14:40:17</td>\n",
       "      <td>4</td>\n",
       "      <td>2048</td>\n",
       "      <td>15360</td>\n",
       "      <td>-768</td>\n",
       "      <td>0.128</td>\n",
       "      <td>0.960</td>\n",
       "      <td>-0.048</td>\n",
       "      <td>0.969684</td>\n",
       "      <td>True</td>\n",
       "      <td>0</td>\n",
       "    </tr>\n",
       "  </tbody>\n",
       "</table>\n",
       "</div>"
      ],
      "text/plain": [
       "   serial                        date          header_date  index     x  \\\n",
       "0   35396  2020-08-23 14:41:08.412000  2020-08-23 14:40:17      0  2304   \n",
       "1   35396  2020-08-23 14:41:08.412000  2020-08-23 14:40:17      1  4608   \n",
       "2   35396  2020-08-23 14:41:08.412000  2020-08-23 14:40:17      2   768   \n",
       "3   35396  2020-08-23 14:41:08.412000  2020-08-23 14:40:17      3  2304   \n",
       "4   35396  2020-08-23 14:41:08.412000  2020-08-23 14:40:17      4  2048   \n",
       "\n",
       "       y     z   xcal   ycal   zcal      norm  kalv  aktivitet  \n",
       "0  15872  -512  0.144  0.992 -0.032  1.002908  True          0  \n",
       "1  17152  1280  0.288  1.072  0.080  1.112892  True          0  \n",
       "2  14336  1024  0.048  0.896  0.064  0.899564  True          0  \n",
       "3  16384  -768  0.144  1.024 -0.048  1.035189  True          0  \n",
       "4  15360  -768  0.128  0.960 -0.048  0.969684  True          0  "
      ]
     },
     "execution_count": 2,
     "metadata": {},
     "output_type": "execute_result"
    }
   ],
   "source": [
    "# Innlasting av data\n",
    "df = pd.read_csv('aks_atf_KOBLET.csv', header=0)\n",
    "print('Shape of data: {}'.format(df.shape))\n",
    "df.head(5)"
   ]
  },
  {
   "cell_type": "code",
   "execution_count": 3,
   "id": "earlier-april",
   "metadata": {},
   "outputs": [
    {
     "data": {
      "text/html": [
       "<div>\n",
       "<style scoped>\n",
       "    .dataframe tbody tr th:only-of-type {\n",
       "        vertical-align: middle;\n",
       "    }\n",
       "\n",
       "    .dataframe tbody tr th {\n",
       "        vertical-align: top;\n",
       "    }\n",
       "\n",
       "    .dataframe thead th {\n",
       "        text-align: right;\n",
       "    }\n",
       "</style>\n",
       "<table border=\"1\" class=\"dataframe\">\n",
       "  <thead>\n",
       "    <tr style=\"text-align: right;\">\n",
       "      <th></th>\n",
       "      <th>serial</th>\n",
       "      <th>index</th>\n",
       "      <th>x</th>\n",
       "      <th>y</th>\n",
       "      <th>z</th>\n",
       "      <th>xcal</th>\n",
       "      <th>ycal</th>\n",
       "      <th>zcal</th>\n",
       "      <th>norm</th>\n",
       "      <th>aktivitet</th>\n",
       "    </tr>\n",
       "  </thead>\n",
       "  <tbody>\n",
       "    <tr>\n",
       "      <th>count</th>\n",
       "      <td>102656.000000</td>\n",
       "      <td>102656.000000</td>\n",
       "      <td>102656.000000</td>\n",
       "      <td>102656.000000</td>\n",
       "      <td>102656.000000</td>\n",
       "      <td>102656.000000</td>\n",
       "      <td>102656.000000</td>\n",
       "      <td>102656.000000</td>\n",
       "      <td>102656.000000</td>\n",
       "      <td>102656.00000</td>\n",
       "    </tr>\n",
       "    <tr>\n",
       "      <th>mean</th>\n",
       "      <td>36344.502494</td>\n",
       "      <td>15.500000</td>\n",
       "      <td>1126.024938</td>\n",
       "      <td>15203.077307</td>\n",
       "      <td>-4005.723192</td>\n",
       "      <td>0.070377</td>\n",
       "      <td>0.950192</td>\n",
       "      <td>-0.250358</td>\n",
       "      <td>1.037524</td>\n",
       "      <td>1.50717</td>\n",
       "    </tr>\n",
       "    <tr>\n",
       "      <th>std</th>\n",
       "      <td>985.291527</td>\n",
       "      <td>9.233138</td>\n",
       "      <td>2228.985381</td>\n",
       "      <td>2579.854334</td>\n",
       "      <td>4576.955594</td>\n",
       "      <td>0.139312</td>\n",
       "      <td>0.161241</td>\n",
       "      <td>0.286060</td>\n",
       "      <td>0.145866</td>\n",
       "      <td>1.05312</td>\n",
       "    </tr>\n",
       "    <tr>\n",
       "      <th>min</th>\n",
       "      <td>35396.000000</td>\n",
       "      <td>0.000000</td>\n",
       "      <td>-32768.000000</td>\n",
       "      <td>-32768.000000</td>\n",
       "      <td>-32768.000000</td>\n",
       "      <td>-2.048000</td>\n",
       "      <td>-2.048000</td>\n",
       "      <td>-2.048000</td>\n",
       "      <td>0.053066</td>\n",
       "      <td>0.00000</td>\n",
       "    </tr>\n",
       "    <tr>\n",
       "      <th>25%</th>\n",
       "      <td>35396.000000</td>\n",
       "      <td>7.750000</td>\n",
       "      <td>0.000000</td>\n",
       "      <td>14080.000000</td>\n",
       "      <td>-6656.000000</td>\n",
       "      <td>0.000000</td>\n",
       "      <td>0.880000</td>\n",
       "      <td>-0.416000</td>\n",
       "      <td>0.980449</td>\n",
       "      <td>0.00000</td>\n",
       "    </tr>\n",
       "    <tr>\n",
       "      <th>50%</th>\n",
       "      <td>35396.000000</td>\n",
       "      <td>15.500000</td>\n",
       "      <td>1024.000000</td>\n",
       "      <td>15616.000000</td>\n",
       "      <td>-3328.000000</td>\n",
       "      <td>0.064000</td>\n",
       "      <td>0.976000</td>\n",
       "      <td>-0.208000</td>\n",
       "      <td>1.018108</td>\n",
       "      <td>2.00000</td>\n",
       "    </tr>\n",
       "    <tr>\n",
       "      <th>75%</th>\n",
       "      <td>37368.000000</td>\n",
       "      <td>23.250000</td>\n",
       "      <td>2304.000000</td>\n",
       "      <td>16384.000000</td>\n",
       "      <td>-768.000000</td>\n",
       "      <td>0.144000</td>\n",
       "      <td>1.024000</td>\n",
       "      <td>-0.048000</td>\n",
       "      <td>1.075457</td>\n",
       "      <td>2.00000</td>\n",
       "    </tr>\n",
       "    <tr>\n",
       "      <th>max</th>\n",
       "      <td>37368.000000</td>\n",
       "      <td>31.000000</td>\n",
       "      <td>32512.000000</td>\n",
       "      <td>32512.000000</td>\n",
       "      <td>32000.000000</td>\n",
       "      <td>2.032000</td>\n",
       "      <td>2.032000</td>\n",
       "      <td>2.000000</td>\n",
       "      <td>3.538027</td>\n",
       "      <td>3.00000</td>\n",
       "    </tr>\n",
       "  </tbody>\n",
       "</table>\n",
       "</div>"
      ],
      "text/plain": [
       "              serial          index              x              y  \\\n",
       "count  102656.000000  102656.000000  102656.000000  102656.000000   \n",
       "mean    36344.502494      15.500000    1126.024938   15203.077307   \n",
       "std       985.291527       9.233138    2228.985381    2579.854334   \n",
       "min     35396.000000       0.000000  -32768.000000  -32768.000000   \n",
       "25%     35396.000000       7.750000       0.000000   14080.000000   \n",
       "50%     35396.000000      15.500000    1024.000000   15616.000000   \n",
       "75%     37368.000000      23.250000    2304.000000   16384.000000   \n",
       "max     37368.000000      31.000000   32512.000000   32512.000000   \n",
       "\n",
       "                   z           xcal           ycal           zcal  \\\n",
       "count  102656.000000  102656.000000  102656.000000  102656.000000   \n",
       "mean    -4005.723192       0.070377       0.950192      -0.250358   \n",
       "std      4576.955594       0.139312       0.161241       0.286060   \n",
       "min    -32768.000000      -2.048000      -2.048000      -2.048000   \n",
       "25%     -6656.000000       0.000000       0.880000      -0.416000   \n",
       "50%     -3328.000000       0.064000       0.976000      -0.208000   \n",
       "75%      -768.000000       0.144000       1.024000      -0.048000   \n",
       "max     32000.000000       2.032000       2.032000       2.000000   \n",
       "\n",
       "                norm     aktivitet  \n",
       "count  102656.000000  102656.00000  \n",
       "mean        1.037524       1.50717  \n",
       "std         0.145866       1.05312  \n",
       "min         0.053066       0.00000  \n",
       "25%         0.980449       0.00000  \n",
       "50%         1.018108       2.00000  \n",
       "75%         1.075457       2.00000  \n",
       "max         3.538027       3.00000  "
      ]
     },
     "execution_count": 3,
     "metadata": {},
     "output_type": "execute_result"
    }
   ],
   "source": [
    "df.describe()"
   ]
  },
  {
   "cell_type": "code",
   "execution_count": 4,
   "id": "anticipated-indiana",
   "metadata": {},
   "outputs": [
    {
     "data": {
      "image/png": "[encoded data removed]",
      "text/plain": [
       "<Figure size 1008x504 with 1 Axes>"
      ]
     },
     "metadata": {
      "needs_background": "light"
     },
     "output_type": "display_data"
    }
   ],
   "source": [
    "# Klassebalanse for aktivitet (Ku og Kalv)\n",
    "data = df['aktivitet']\n",
    "counts = np.bincount(data)\n",
    "n_classes = len(counts)\n",
    "\n",
    "fig, ax = plt.subplots(figsize=(14,7))\n",
    "ax.bar(range(n_classes), counts, width=0.5, align='center')\n",
    "ax.set(xticks=range(n_classes), xlim=[-1, n_classes])\n",
    "ax.set_xlabel('Klasse')\n",
    "ax.set_ylabel('Antall observasjoner')\n",
    "ax.set_title('Klassebalanse for akselerometerobservasjoner (Ku og Kalv)')\n",
    "\n",
    "plt.show()"
   ]
  },
  {
   "cell_type": "code",
   "execution_count": 5,
   "id": "surrounded-kitty",
   "metadata": {},
   "outputs": [
    {
     "data": {
      "image/png": "[encoded data removed]",
      "text/plain": [
       "<Figure size 864x360 with 1 Axes>"
      ]
     },
     "metadata": {
      "needs_background": "light"
     },
     "output_type": "display_data"
    }
   ],
   "source": [
    "# Observasjoner pr klave (Ku og Kalv)\n",
    "df_counts = df['serial'].value_counts()\n",
    "num_coll = len(df_counts) # Antall klaver i settet\n",
    "\n",
    "fig, ax = plt.subplots(figsize=(12,5))\n",
    "ax.bar(range(num_coll), df_counts, width=0.5, align='center')\n",
    "ax.set(xticks=range(num_coll), xlim=[-1, num_coll])\n",
    "ax.set_xticklabels(df_counts.index)\n",
    "ax.set_xlabel('Klave ID')\n",
    "ax.set_ylabel('Antall observasjoner')\n",
    "ax.set_title('Observasjoner per klave (Ku og Kalv)')\n",
    "\n",
    "plt.show()"
   ]
  },
  {
   "cell_type": "markdown",
   "id": "stuck-prompt",
   "metadata": {},
   "source": [
    "### Kalv"
   ]
  },
  {
   "cell_type": "markdown",
   "id": "behind-expression",
   "metadata": {},
   "source": [
    "#### Utforske data"
   ]
  },
  {
   "cell_type": "code",
   "execution_count": 6,
   "id": "controversial-jefferson",
   "metadata": {},
   "outputs": [
    {
     "name": "stdout",
     "output_type": "stream",
     "text": [
      "Shape of data: (102656, 13)\n"
     ]
    }
   ],
   "source": [
    "df_kalv = df.loc[df['kalv'] == True]\n",
    "print('Shape of data: {}'.format(df_kalv.shape))"
   ]
  },
  {
   "cell_type": "code",
   "execution_count": 7,
   "id": "provincial-longitude",
   "metadata": {},
   "outputs": [
    {
     "data": {
      "text/html": [
       "<div>\n",
       "<style scoped>\n",
       "    .dataframe tbody tr th:only-of-type {\n",
       "        vertical-align: middle;\n",
       "    }\n",
       "\n",
       "    .dataframe tbody tr th {\n",
       "        vertical-align: top;\n",
       "    }\n",
       "\n",
       "    .dataframe thead th {\n",
       "        text-align: right;\n",
       "    }\n",
       "</style>\n",
       "<table border=\"1\" class=\"dataframe\">\n",
       "  <thead>\n",
       "    <tr style=\"text-align: right;\">\n",
       "      <th></th>\n",
       "      <th>serial</th>\n",
       "      <th>index</th>\n",
       "      <th>x</th>\n",
       "      <th>y</th>\n",
       "      <th>z</th>\n",
       "      <th>xcal</th>\n",
       "      <th>ycal</th>\n",
       "      <th>zcal</th>\n",
       "      <th>norm</th>\n",
       "      <th>aktivitet</th>\n",
       "    </tr>\n",
       "  </thead>\n",
       "  <tbody>\n",
       "    <tr>\n",
       "      <th>count</th>\n",
       "      <td>102656.000000</td>\n",
       "      <td>102656.000000</td>\n",
       "      <td>102656.000000</td>\n",
       "      <td>102656.000000</td>\n",
       "      <td>102656.000000</td>\n",
       "      <td>102656.000000</td>\n",
       "      <td>102656.000000</td>\n",
       "      <td>102656.000000</td>\n",
       "      <td>102656.000000</td>\n",
       "      <td>102656.00000</td>\n",
       "    </tr>\n",
       "    <tr>\n",
       "      <th>mean</th>\n",
       "      <td>36344.502494</td>\n",
       "      <td>15.500000</td>\n",
       "      <td>1126.024938</td>\n",
       "      <td>15203.077307</td>\n",
       "      <td>-4005.723192</td>\n",
       "      <td>0.070377</td>\n",
       "      <td>0.950192</td>\n",
       "      <td>-0.250358</td>\n",
       "      <td>1.037524</td>\n",
       "      <td>1.50717</td>\n",
       "    </tr>\n",
       "    <tr>\n",
       "      <th>std</th>\n",
       "      <td>985.291527</td>\n",
       "      <td>9.233138</td>\n",
       "      <td>2228.985381</td>\n",
       "      <td>2579.854334</td>\n",
       "      <td>4576.955594</td>\n",
       "      <td>0.139312</td>\n",
       "      <td>0.161241</td>\n",
       "      <td>0.286060</td>\n",
       "      <td>0.145866</td>\n",
       "      <td>1.05312</td>\n",
       "    </tr>\n",
       "    <tr>\n",
       "      <th>min</th>\n",
       "      <td>35396.000000</td>\n",
       "      <td>0.000000</td>\n",
       "      <td>-32768.000000</td>\n",
       "      <td>-32768.000000</td>\n",
       "      <td>-32768.000000</td>\n",
       "      <td>-2.048000</td>\n",
       "      <td>-2.048000</td>\n",
       "      <td>-2.048000</td>\n",
       "      <td>0.053066</td>\n",
       "      <td>0.00000</td>\n",
       "    </tr>\n",
       "    <tr>\n",
       "      <th>25%</th>\n",
       "      <td>35396.000000</td>\n",
       "      <td>7.750000</td>\n",
       "      <td>0.000000</td>\n",
       "      <td>14080.000000</td>\n",
       "      <td>-6656.000000</td>\n",
       "      <td>0.000000</td>\n",
       "      <td>0.880000</td>\n",
       "      <td>-0.416000</td>\n",
       "      <td>0.980449</td>\n",
       "      <td>0.00000</td>\n",
       "    </tr>\n",
       "    <tr>\n",
       "      <th>50%</th>\n",
       "      <td>35396.000000</td>\n",
       "      <td>15.500000</td>\n",
       "      <td>1024.000000</td>\n",
       "      <td>15616.000000</td>\n",
       "      <td>-3328.000000</td>\n",
       "      <td>0.064000</td>\n",
       "      <td>0.976000</td>\n",
       "      <td>-0.208000</td>\n",
       "      <td>1.018108</td>\n",
       "      <td>2.00000</td>\n",
       "    </tr>\n",
       "    <tr>\n",
       "      <th>75%</th>\n",
       "      <td>37368.000000</td>\n",
       "      <td>23.250000</td>\n",
       "      <td>2304.000000</td>\n",
       "      <td>16384.000000</td>\n",
       "      <td>-768.000000</td>\n",
       "      <td>0.144000</td>\n",
       "      <td>1.024000</td>\n",
       "      <td>-0.048000</td>\n",
       "      <td>1.075457</td>\n",
       "      <td>2.00000</td>\n",
       "    </tr>\n",
       "    <tr>\n",
       "      <th>max</th>\n",
       "      <td>37368.000000</td>\n",
       "      <td>31.000000</td>\n",
       "      <td>32512.000000</td>\n",
       "      <td>32512.000000</td>\n",
       "      <td>32000.000000</td>\n",
       "      <td>2.032000</td>\n",
       "      <td>2.032000</td>\n",
       "      <td>2.000000</td>\n",
       "      <td>3.538027</td>\n",
       "      <td>3.00000</td>\n",
       "    </tr>\n",
       "  </tbody>\n",
       "</table>\n",
       "</div>"
      ],
      "text/plain": [
       "              serial          index              x              y  \\\n",
       "count  102656.000000  102656.000000  102656.000000  102656.000000   \n",
       "mean    36344.502494      15.500000    1126.024938   15203.077307   \n",
       "std       985.291527       9.233138    2228.985381    2579.854334   \n",
       "min     35396.000000       0.000000  -32768.000000  -32768.000000   \n",
       "25%     35396.000000       7.750000       0.000000   14080.000000   \n",
       "50%     35396.000000      15.500000    1024.000000   15616.000000   \n",
       "75%     37368.000000      23.250000    2304.000000   16384.000000   \n",
       "max     37368.000000      31.000000   32512.000000   32512.000000   \n",
       "\n",
       "                   z           xcal           ycal           zcal  \\\n",
       "count  102656.000000  102656.000000  102656.000000  102656.000000   \n",
       "mean    -4005.723192       0.070377       0.950192      -0.250358   \n",
       "std      4576.955594       0.139312       0.161241       0.286060   \n",
       "min    -32768.000000      -2.048000      -2.048000      -2.048000   \n",
       "25%     -6656.000000       0.000000       0.880000      -0.416000   \n",
       "50%     -3328.000000       0.064000       0.976000      -0.208000   \n",
       "75%      -768.000000       0.144000       1.024000      -0.048000   \n",
       "max     32000.000000       2.032000       2.032000       2.000000   \n",
       "\n",
       "                norm     aktivitet  \n",
       "count  102656.000000  102656.00000  \n",
       "mean        1.037524       1.50717  \n",
       "std         0.145866       1.05312  \n",
       "min         0.053066       0.00000  \n",
       "25%         0.980449       0.00000  \n",
       "50%         1.018108       2.00000  \n",
       "75%         1.075457       2.00000  \n",
       "max         3.538027       3.00000  "
      ]
     },
     "execution_count": 7,
     "metadata": {},
     "output_type": "execute_result"
    }
   ],
   "source": [
    "df_kalv.describe()"
   ]
  },
  {
   "cell_type": "code",
   "execution_count": 8,
   "id": "indoor-feedback",
   "metadata": {},
   "outputs": [
    {
     "data": {
      "image/png": "[encoded data removed]",
      "text/plain": [
       "<Figure size 1008x360 with 1 Axes>"
      ]
     },
     "metadata": {
      "needs_background": "light"
     },
     "output_type": "display_data"
    }
   ],
   "source": [
    "# Klassebalanse for aktivitet (Kalv)\n",
    "data = df_kalv['aktivitet']\n",
    "counts = np.bincount(data)\n",
    "n_classes = len(counts)\n",
    "\n",
    "fig, ax = plt.subplots(figsize=(14,5))\n",
    "ax.bar(range(n_classes), counts, width=0.5, align='center')\n",
    "ax.set(xticks=range(n_classes), xlim=[-1, n_classes])\n",
    "ax.set_xlabel('Klasse')\n",
    "ax.set_ylabel('Antall observasjoner')\n",
    "ax.set_title('Klassebalanse for akselerometerobservasjoner Kalv')\n",
    "\n",
    "plt.show()"
   ]
  },
  {
   "cell_type": "code",
   "execution_count": 9,
   "id": "sustained-replacement",
   "metadata": {},
   "outputs": [
    {
     "data": {
      "image/png": "[encoded data removed]",
      "text/plain": [
       "<Figure size 864x360 with 1 Axes>"
      ]
     },
     "metadata": {
      "needs_background": "light"
     },
     "output_type": "display_data"
    }
   ],
   "source": [
    "# Observasjoner pr klave (Kalv)\n",
    "df_counts = df_kalv['serial'].value_counts()\n",
    "num_coll = len(df_counts) # Antall klaver i settet\n",
    "\n",
    "fig, ax = plt.subplots(figsize=(12,5))\n",
    "ax.bar(range(num_coll), df_counts, width=0.5, align='center')\n",
    "ax.set(xticks=range(num_coll), xlim=[-1, num_coll])\n",
    "ax.set_xticklabels(df_counts.index)\n",
    "ax.set_xlabel('Klave ID')\n",
    "ax.set_ylabel('Antall observasjoner')\n",
    "ax.set_title('Observasjoner per klave (Kalv)')\n",
    "\n",
    "plt.show()"
   ]
  },
  {
   "cell_type": "code",
   "execution_count": 10,
   "id": "committed-communication",
   "metadata": {
    "scrolled": true
   },
   "outputs": [
    {
     "data": {
      "image/png": "[encoded data removed]",
      "text/plain": [
       "<Figure size 1008x360 with 1 Axes>"
      ]
     },
     "metadata": {
      "needs_background": "light"
     },
     "output_type": "display_data"
    },
    {
     "data": {
      "image/png": "[encoded data removed]",
      "text/plain": [
       "<Figure size 1008x360 with 1 Axes>"
      ]
     },
     "metadata": {
      "needs_background": "light"
     },
     "output_type": "display_data"
    }
   ],
   "source": [
    "# Klassebalanse for for hver klave (Kalv)\n",
    "serials = list(df_kalv['serial'].unique())\n",
    "\n",
    "for serial in serials:\n",
    "    data = df_kalv['aktivitet'][df_kalv['serial'] == serial] \n",
    "    counts = np.bincount(data)\n",
    "    n_classes = len(counts)\n",
    "\n",
    "    fig, ax = plt.subplots(figsize=(14,5))\n",
    "    ax.bar(range(n_classes), counts, width=0.5, align='center')\n",
    "    ax.set(xticks=range(n_classes), xlim=[-1, n_classes])\n",
    "    ax.set_xlabel('Klasse')\n",
    "    ax.set_ylabel('Antall observasjoner')\n",
    "    ax.set_title('Klassebalanse for akselerometerobservasjoner Kalv med ID: {}'.format(serial))\n",
    "\n",
    "    plt.show()"
   ]
  },
  {
   "cell_type": "markdown",
   "id": "urban-prediction",
   "metadata": {},
   "source": [
    "#### Maskinlæring"
   ]
  },
  {
   "cell_type": "markdown",
   "id": "worst-brave",
   "metadata": {},
   "source": [
    "Import"
   ]
  },
  {
   "cell_type": "code",
   "execution_count": 11,
   "id": "otherwise-springer",
   "metadata": {},
   "outputs": [],
   "source": [
    "import tensorflow as tf\n",
    "from sklearn.preprocessing import OneHotEncoder\n",
    "from tensorflow import keras\n",
    "from tensorflow.keras.optimizers import Adam\n",
    "from sklearn.preprocessing import RobustScaler, StandardScaler, MinMaxScaler\n",
    "from sklearn.metrics import confusion_matrix\n",
    "from scipy import stats"
   ]
  },
  {
   "cell_type": "markdown",
   "id": "quantitative-relationship",
   "metadata": {},
   "source": [
    "Dataklargjøring:"
   ]
  },
  {
   "cell_type": "code",
   "execution_count": 12,
   "id": "numerical-aquatic",
   "metadata": {
    "scrolled": false
   },
   "outputs": [],
   "source": [
    "# Oppdeling\n",
    "# data = df_kalv[df_kalv['serial'] == serials[0]]\n",
    "# data['date'] = pd.to_datetime(data['date'])\n",
    "# data['aktivitet'].replace({1: 0, 2: 0, 3: 1}, inplace=True)\n",
    "\n",
    "# attributes = ['xcal', 'ycal', 'zcal']\n",
    "# df_train = data[(data['date'] > datetime.strptime('2020-08-23 16:53:23', '%Y-%m-%d %H:%M:%S'))\n",
    "#                 & (data['date'] <= datetime.strptime('2020-08-23 17:33:23', '%Y-%m-%d %H:%M:%S'))]\n",
    "# df_test = data[(data['date'] > datetime.strptime('2020-08-23 17:34:04', '%Y-%m-%d %H:%M:%S'))\n",
    "#                & (data['date'] <= datetime.strptime('2020-08-23 17:38:58', '%Y-%m-%d %H:%M:%S'))]"
   ]
  },
  {
   "cell_type": "code",
   "execution_count": 13,
   "id": "molecular-friendship",
   "metadata": {
    "scrolled": true
   },
   "outputs": [],
   "source": [
    "attributes = ['xcal', 'ycal', 'zcal']\n",
    "#df_kalv['aktivitet'].replace({2: 1, 3: 2}, inplace=True)\n",
    "\n",
    "df_train = df_kalv[(df_kalv['serial'] == 35396)]\n",
    "df_test = df_kalv[df_kalv['serial'] == 37368]\n",
    "df_test = df_test.tail(25000)"
   ]
  },
  {
   "cell_type": "code",
   "execution_count": 14,
   "id": "brazilian-saturday",
   "metadata": {},
   "outputs": [
    {
     "data": {
      "image/png": "[encoded data removed]",
      "text/plain": [
       "<Figure size 1008x360 with 1 Axes>"
      ]
     },
     "metadata": {
      "needs_background": "light"
     },
     "output_type": "display_data"
    },
    {
     "data": {
      "image/png": "[encoded data removed]",
      "text/plain": [
       "<Figure size 1008x360 with 1 Axes>"
      ]
     },
     "metadata": {
      "needs_background": "light"
     },
     "output_type": "display_data"
    }
   ],
   "source": [
    "# Klassebalanse for for hver oppdeling (Kalv)\n",
    "df_list_names = ['df_train', 'df_test']\n",
    "df_list = [df_train, df_test]\n",
    "for i, df in enumerate(df_list):\n",
    "    data = df['aktivitet']\n",
    "    counts = np.bincount(data)\n",
    "    n_classes = len(counts)\n",
    "\n",
    "    fig, ax = plt.subplots(figsize=(14,5))\n",
    "    ax.bar(range(n_classes), counts, width=0.5, align='center')\n",
    "    ax.set(xticks=range(n_classes), xlim=[-1, n_classes])\n",
    "    ax.set_xlabel('Klasse')\n",
    "    ax.set_ylabel('Antall observasjoner')\n",
    "    ax.set_title('Klassebalanse for akselerometerobservasjoner Kalv : {}'.format(df_list_names[i]))\n",
    "\n",
    "    plt.show()"
   ]
  },
  {
   "cell_type": "code",
   "execution_count": 15,
   "id": "seasonal-breeding",
   "metadata": {},
   "outputs": [],
   "source": [
    "input_train = df_train[attributes]\n",
    "y_train = df_train['aktivitet']\n",
    "\n",
    "input_test = df_test[attributes]\n",
    "y_test = df_test['aktivitet']"
   ]
  },
  {
   "cell_type": "code",
   "execution_count": 16,
   "id": "controlling-harris",
   "metadata": {
    "scrolled": true
   },
   "outputs": [
    {
     "name": "stderr",
     "output_type": "stream",
     "text": [
      "C:\\Users\\Knut-henning\\Anaconda3\\lib\\site-packages\\pandas\\core\\indexing.py:1637: SettingWithCopyWarning: \n",
      "A value is trying to be set on a copy of a slice from a DataFrame\n",
      "\n",
      "See the caveats in the documentation: https://pandas.pydata.org/pandas-docs/stable/user_guide/indexing.html#returning-a-view-versus-a-copy\n",
      "  self._setitem_single_block(indexer, value, name)\n",
      "C:\\Users\\Knut-henning\\Anaconda3\\lib\\site-packages\\pandas\\core\\indexing.py:692: SettingWithCopyWarning: \n",
      "A value is trying to be set on a copy of a slice from a DataFrame\n",
      "\n",
      "See the caveats in the documentation: https://pandas.pydata.org/pandas-docs/stable/user_guide/indexing.html#returning-a-view-versus-a-copy\n",
      "  iloc._setitem_with_indexer(indexer, value, self.name)\n",
      "C:\\Users\\Knut-henning\\Anaconda3\\lib\\site-packages\\pandas\\core\\indexing.py:1637: SettingWithCopyWarning: \n",
      "A value is trying to be set on a copy of a slice from a DataFrame\n",
      "\n",
      "See the caveats in the documentation: https://pandas.pydata.org/pandas-docs/stable/user_guide/indexing.html#returning-a-view-versus-a-copy\n",
      "  self._setitem_single_block(indexer, value, name)\n",
      "C:\\Users\\Knut-henning\\Anaconda3\\lib\\site-packages\\pandas\\core\\indexing.py:692: SettingWithCopyWarning: \n",
      "A value is trying to be set on a copy of a slice from a DataFrame\n",
      "\n",
      "See the caveats in the documentation: https://pandas.pydata.org/pandas-docs/stable/user_guide/indexing.html#returning-a-view-versus-a-copy\n",
      "  iloc._setitem_with_indexer(indexer, value, self.name)\n"
     ]
    }
   ],
   "source": [
    "scale_columns = attributes\n",
    "\n",
    "scaler = StandardScaler()\n",
    "\n",
    "scaler = scaler.fit(input_train[scale_columns])\n",
    "\n",
    "input_train.loc[:, scale_columns] = scaler.transform(input_train[scale_columns].to_numpy())\n",
    "input_test.loc[:, scale_columns] = scaler.transform(input_test[scale_columns].to_numpy())"
   ]
  },
  {
   "cell_type": "code",
   "execution_count": 17,
   "id": "treated-guard",
   "metadata": {},
   "outputs": [],
   "source": [
    "def create_dataset(X, y, time_steps=1, step=1):\n",
    "    Xs, ys = [], []\n",
    "    for i in range(0, len(X) - time_steps, step):\n",
    "        v = X.iloc[i:(i + time_steps)].values\n",
    "        labels = y.iloc[i: i + time_steps]\n",
    "        Xs.append(v)\n",
    "        ys.append(stats.mode(labels)[0][0])\n",
    "    return np.array(Xs), np.array(ys).reshape(-1, 1)"
   ]
  },
  {
   "cell_type": "code",
   "execution_count": 18,
   "id": "careful-mercury",
   "metadata": {},
   "outputs": [
    {
     "name": "stdout",
     "output_type": "stream",
     "text": [
      "Train data shape: (53280, 3)(53280,)\n",
      "Test data shape: (25000, 3)(25000,)\n"
     ]
    }
   ],
   "source": [
    "print('Train data shape: {}{}'.format(input_train.shape, y_train.shape))\n",
    "print('Test data shape: {}{}'.format(input_test.shape, y_test.shape))"
   ]
  },
  {
   "cell_type": "code",
   "execution_count": 19,
   "id": "danish-profession",
   "metadata": {},
   "outputs": [],
   "source": [
    "TIME_STEPS = 64\n",
    "STEP = 31\n",
    "\n",
    "input_train, y_train = create_dataset(\n",
    "    input_train[attributes],\n",
    "    y_train,\n",
    "    TIME_STEPS,\n",
    "    STEP\n",
    ")\n",
    "\n",
    "input_test, y_test = create_dataset(\n",
    "    input_test[attributes],\n",
    "    y_test,\n",
    "    TIME_STEPS,\n",
    "    STEP\n",
    ")"
   ]
  },
  {
   "cell_type": "code",
   "execution_count": 20,
   "id": "hollywood-chest",
   "metadata": {},
   "outputs": [
    {
     "name": "stdout",
     "output_type": "stream",
     "text": [
      "(1717, 64, 3) (1717, 1)\n"
     ]
    }
   ],
   "source": [
    "print(input_train.shape, y_train.shape)"
   ]
  },
  {
   "cell_type": "code",
   "execution_count": 21,
   "id": "hungry-ancient",
   "metadata": {},
   "outputs": [],
   "source": [
    "enc = OneHotEncoder(handle_unknown='ignore', sparse=False)\n",
    "\n",
    "enc = enc.fit(y_train)\n",
    "\n",
    "y_train = enc.transform(y_train)\n",
    "y_test = enc.transform(y_test)"
   ]
  },
  {
   "cell_type": "code",
   "execution_count": 22,
   "id": "wired-chambers",
   "metadata": {},
   "outputs": [
    {
     "name": "stdout",
     "output_type": "stream",
     "text": [
      "(1717, 64, 3) (1717, 4)\n"
     ]
    }
   ],
   "source": [
    "print(input_train.shape, y_train.shape)"
   ]
  },
  {
   "cell_type": "markdown",
   "id": "tracked-definition",
   "metadata": {},
   "source": [
    "GRU:"
   ]
  },
  {
   "cell_type": "code",
   "execution_count": 23,
   "id": "grand-owner",
   "metadata": {
    "scrolled": true
   },
   "outputs": [
    {
     "name": "stdout",
     "output_type": "stream",
     "text": [
      "WARNING:tensorflow:Layer gru will not use cuDNN kernel since it doesn't meet the cuDNN kernel criteria. It will use generic GPU kernel as fallback when running on GPU\n",
      "WARNING:tensorflow:Layer gru_1 will not use cuDNN kernel since it doesn't meet the cuDNN kernel criteria. It will use generic GPU kernel as fallback when running on GPU\n"
     ]
    }
   ],
   "source": [
    "model = keras.Sequential()\n",
    "model.add(\n",
    "    tf.keras.layers.Conv1D(\n",
    "        filters=50, \n",
    "        kernel_size=3,\n",
    "        activation='relu',\n",
    "        input_shape=[input_train.shape[1], input_train.shape[2]]\n",
    "    )\n",
    ")\n",
    "model.add(tf.keras.layers.MaxPooling1D(pool_size=4, padding='valid'))\n",
    "model.add(tf.keras.layers.BatchNormalization())\n",
    "model.add(\n",
    "    tf.keras.layers.Conv1D(\n",
    "        filters=50, \n",
    "        kernel_size=3,\n",
    "        activation='relu'\n",
    "    )\n",
    ")\n",
    "model.add(tf.keras.layers.MaxPooling1D(pool_size=2, padding='valid'))\n",
    "model.add(tf.keras.layers.BatchNormalization())\n",
    "model.add(\n",
    "    tf.keras.layers.GRU(\n",
    "        units=64,\n",
    "        activation='tanh',\n",
    "        recurrent_activation='sigmoid',\n",
    "        use_bias=True,\n",
    "        kernel_initializer='glorot_uniform',\n",
    "        return_sequences=True,  # neste lag er også GRU\n",
    "        dropout=0.0,\n",
    "        recurrent_dropout=0.2\n",
    "    )\n",
    ")\n",
    "model.add(\n",
    "    tf.keras.layers.GRU(\n",
    "        units=64,\n",
    "        activation='tanh',\n",
    "        recurrent_activation='sigmoid',\n",
    "        use_bias=True,\n",
    "        kernel_initializer='glorot_uniform',\n",
    "        return_sequences=False,  # neste lag er Dense\n",
    "        dropout=0.2,\n",
    "        recurrent_dropout=0.2\n",
    "    )\n",
    ")\n",
    "\n",
    "model.add(tf.keras.layers.Dropout(rate=0.1))\n",
    "\n",
    "model.add(tf.keras.layers.Dense(y_train.shape[1], activation='softmax'))\n",
    "model.compile(loss='categorical_crossentropy', optimizer=Adam(lr=0.001), metrics=['acc'])"
   ]
  },
  {
   "cell_type": "code",
   "execution_count": 24,
   "id": "loving-stadium",
   "metadata": {
    "scrolled": false
   },
   "outputs": [
    {
     "name": "stdout",
     "output_type": "stream",
     "text": [
      "Epoch 1/14\n",
      "13/13 [==============================] - 1s 94ms/step - loss: 1.4311 - acc: 0.3553 - val_loss: 1.1857 - val_acc: 0.7849\n",
      "Epoch 2/14\n",
      "13/13 [==============================] - 1s 55ms/step - loss: 1.2546 - acc: 0.5010 - val_loss: 1.1990 - val_acc: 0.7733\n",
      "Epoch 3/14\n",
      "13/13 [==============================] - 1s 53ms/step - loss: 1.2158 - acc: 0.4926 - val_loss: 1.1063 - val_acc: 0.7791\n",
      "Epoch 4/14\n",
      "13/13 [==============================] - 1s 53ms/step - loss: 1.1764 - acc: 0.5049 - val_loss: 1.0128 - val_acc: 0.7849\n",
      "Epoch 5/14\n",
      "13/13 [==============================] - 1s 54ms/step - loss: 1.1292 - acc: 0.5275 - val_loss: 0.9351 - val_acc: 0.7849\n",
      "Epoch 6/14\n",
      "13/13 [==============================] - 1s 54ms/step - loss: 1.0784 - acc: 0.5495 - val_loss: 0.8790 - val_acc: 0.7733\n",
      "Epoch 7/14\n",
      "13/13 [==============================] - 1s 56ms/step - loss: 1.0118 - acc: 0.5722 - val_loss: 0.8267 - val_acc: 0.7733\n",
      "Epoch 8/14\n",
      "13/13 [==============================] - 1s 53ms/step - loss: 0.9346 - acc: 0.6220 - val_loss: 0.7809 - val_acc: 0.7558\n",
      "Epoch 9/14\n",
      "13/13 [==============================] - 1s 57ms/step - loss: 0.8438 - acc: 0.6880 - val_loss: 0.7589 - val_acc: 0.7558\n",
      "Epoch 10/14\n",
      "13/13 [==============================] - 1s 55ms/step - loss: 0.7500 - acc: 0.7307 - val_loss: 0.7471 - val_acc: 0.7674\n",
      "Epoch 11/14\n",
      "13/13 [==============================] - 1s 52ms/step - loss: 0.6571 - acc: 0.7650 - val_loss: 0.7413 - val_acc: 0.7733\n",
      "Epoch 12/14\n",
      "13/13 [==============================] - 1s 57ms/step - loss: 0.5812 - acc: 0.7929 - val_loss: 0.7587 - val_acc: 0.7733\n",
      "Epoch 13/14\n",
      "13/13 [==============================] - 1s 52ms/step - loss: 0.5243 - acc: 0.8123 - val_loss: 0.7628 - val_acc: 0.7733\n",
      "Epoch 14/14\n",
      "13/13 [==============================] - 1s 56ms/step - loss: 0.4652 - acc: 0.8285 - val_loss: 0.7829 - val_acc: 0.7674\n"
     ]
    }
   ],
   "source": [
    "history = model.fit(\n",
    "    input_train, y_train,\n",
    "    epochs=14,\n",
    "    batch_size=128,\n",
    "    validation_split=0.1,\n",
    "    shuffle=False\n",
    ")"
   ]
  },
  {
   "cell_type": "code",
   "execution_count": 25,
   "id": "portable-drink",
   "metadata": {},
   "outputs": [
    {
     "name": "stdout",
     "output_type": "stream",
     "text": [
      "Model: \"sequential\"\n",
      "_________________________________________________________________\n",
      "Layer (type)                 Output Shape              Param #   \n",
      "=================================================================\n",
      "conv1d (Conv1D)              (None, 62, 50)            500       \n",
      "_________________________________________________________________\n",
      "max_pooling1d (MaxPooling1D) (None, 15, 50)            0         \n",
      "_________________________________________________________________\n",
      "batch_normalization (BatchNo (None, 15, 50)            200       \n",
      "_________________________________________________________________\n",
      "conv1d_1 (Conv1D)            (None, 13, 50)            7550      \n",
      "_________________________________________________________________\n",
      "max_pooling1d_1 (MaxPooling1 (None, 6, 50)             0         \n",
      "_________________________________________________________________\n",
      "batch_normalization_1 (Batch (None, 6, 50)             200       \n",
      "_________________________________________________________________\n",
      "gru (GRU)                    (None, 6, 64)             22272     \n",
      "_________________________________________________________________\n",
      "gru_1 (GRU)                  (None, 64)                24960     \n",
      "_________________________________________________________________\n",
      "dropout (Dropout)            (None, 64)                0         \n",
      "_________________________________________________________________\n",
      "dense (Dense)                (None, 4)                 260       \n",
      "=================================================================\n",
      "Total params: 55,942\n",
      "Trainable params: 55,742\n",
      "Non-trainable params: 200\n",
      "_________________________________________________________________\n"
     ]
    }
   ],
   "source": [
    "model.summary()"
   ]
  },
  {
   "cell_type": "code",
   "execution_count": 26,
   "id": "blond-peoples",
   "metadata": {},
   "outputs": [
    {
     "data": {
      "image/png": "[encoded data removed]",
      "text/plain": [
       "<Figure size 432x288 with 1 Axes>"
      ]
     },
     "metadata": {
      "needs_background": "light"
     },
     "output_type": "display_data"
    },
    {
     "data": {
      "image/png": "[encoded data removed]",
      "text/plain": [
       "<Figure size 432x288 with 1 Axes>"
      ]
     },
     "metadata": {
      "needs_background": "light"
     },
     "output_type": "display_data"
    }
   ],
   "source": [
    "plt.plot(history.history['loss'], label='train')\n",
    "plt.plot(history.history['val_loss'], label='validation')\n",
    "plt.title('Loss')\n",
    "plt.legend();\n",
    "plt.show()\n",
    "\n",
    "plt.plot(history.history['acc'], label='train')\n",
    "plt.plot(history.history['val_acc'], label='validation')\n",
    "plt.title('Acc')\n",
    "plt.legend();\n",
    "plt.show()"
   ]
  },
  {
   "cell_type": "code",
   "execution_count": 27,
   "id": "adaptive-comparative",
   "metadata": {},
   "outputs": [
    {
     "name": "stdout",
     "output_type": "stream",
     "text": [
      "26/26 [==============================] - 0s 7ms/step - loss: 1.2042 - acc: 0.6484\n"
     ]
    },
    {
     "data": {
      "text/plain": [
       "[1.2041655778884888, 0.6484472155570984]"
      ]
     },
     "execution_count": 27,
     "metadata": {},
     "output_type": "execute_result"
    }
   ],
   "source": [
    "model.evaluate(input_test, y_test)"
   ]
  },
  {
   "cell_type": "code",
   "execution_count": 28,
   "id": "leading-services",
   "metadata": {},
   "outputs": [
    {
     "data": {
      "image/png": "[encoded data removed]",
      "text/plain": [
       "<Figure size 864x576 with 2 Axes>"
      ]
     },
     "metadata": {
      "needs_background": "light"
     },
     "output_type": "display_data"
    }
   ],
   "source": [
    "Y_test = np.argmax(y_test, axis=1) # Konverterer fra Onehot tilbake til klasse\n",
    "y_pred = np.argmax(model.predict(input_test), axis=-1)\n",
    "classes = ['Hviler', 'Bevegelse', 'Beiter', 'Dier']\n",
    "\n",
    "plt.figure(figsize=(12,8))\n",
    "plt.imshow(confusion_matrix(Y_test, y_pred), interpolation='nearest', cmap='YlOrRd')\n",
    "plt.title('Confusion matrix')\n",
    "plt.colorbar()\n",
    "tick_marks = np.arange(len(classes))\n",
    "plt.xticks(tick_marks, classes, rotation=45)\n",
    "plt.yticks(tick_marks, classes)\n",
    "plt.ylabel('True label')\n",
    "plt.xlabel('Predicted label')\n",
    "plt.tight_layout();"
   ]
  },
  {
   "cell_type": "markdown",
   "id": "initial-metallic",
   "metadata": {},
   "source": [
    "LSTM:"
   ]
  },
  {
   "cell_type": "code",
   "execution_count": 35,
   "id": "structured-condition",
   "metadata": {},
   "outputs": [],
   "source": [
    "model = tf.keras.Sequential()\n",
    "model.add(\n",
    "    tf.keras.layers.Bidirectional(\n",
    "        tf.keras.layers.LSTM(\n",
    "            dropout=0.2,\n",
    "            units=128, \n",
    "            input_shape=[input_train.shape[1], input_train.shape[2]],\n",
    "            return_sequences=True\n",
    "        )\n",
    "    )\n",
    ")\n",
    "model.add(\n",
    "    tf.keras.layers.Bidirectional(\n",
    "        tf.keras.layers.LSTM(\n",
    "            dropout=0.2,\n",
    "            units=64,\n",
    "            return_sequences=False\n",
    "        )\n",
    "    )\n",
    ")\n",
    "\n",
    "model.add(tf.keras.layers.Flatten())\n",
    "model.add(tf.keras.layers.Dense(units=9, activation='relu'))\n",
    "model.add(tf.keras.layers.Dropout(rate=0.2))\n",
    "model.add(tf.keras.layers.Dense(y_train.shape[1], activation='softmax'))\n",
    "model.compile(loss='categorical_crossentropy', optimizer=Adam(lr=0.001), metrics=['acc'])"
   ]
  },
  {
   "cell_type": "code",
   "execution_count": 36,
   "id": "imperial-implement",
   "metadata": {
    "scrolled": true
   },
   "outputs": [
    {
     "name": "stdout",
     "output_type": "stream",
     "text": [
      "Epoch 1/3\n",
      "13/13 [==============================] - 1s 113ms/step - loss: 1.2971 - acc: 0.4906 - val_loss: 0.8564 - val_acc: 0.7558\n",
      "Epoch 2/3\n",
      "13/13 [==============================] - 1s 40ms/step - loss: 1.0709 - acc: 0.5560 - val_loss: 0.6531 - val_acc: 0.7616\n",
      "Epoch 3/3\n",
      "13/13 [==============================] - 1s 39ms/step - loss: 1.0360 - acc: 0.5605 - val_loss: 0.6588 - val_acc: 0.7616\n"
     ]
    }
   ],
   "source": [
    "history = model.fit(\n",
    "    input_train, y_train,\n",
    "    epochs=3,\n",
    "    batch_size=128,\n",
    "    validation_split=0.1,\n",
    "    shuffle=False\n",
    ")"
   ]
  },
  {
   "cell_type": "code",
   "execution_count": 37,
   "id": "collectible-elements",
   "metadata": {},
   "outputs": [
    {
     "name": "stdout",
     "output_type": "stream",
     "text": [
      "Model: \"sequential_2\"\n",
      "_________________________________________________________________\n",
      "Layer (type)                 Output Shape              Param #   \n",
      "=================================================================\n",
      "bidirectional_2 (Bidirection (None, 64, 256)           135168    \n",
      "_________________________________________________________________\n",
      "bidirectional_3 (Bidirection (None, 128)               164352    \n",
      "_________________________________________________________________\n",
      "flatten_1 (Flatten)          (None, 128)               0         \n",
      "_________________________________________________________________\n",
      "dense_3 (Dense)              (None, 9)                 1161      \n",
      "_________________________________________________________________\n",
      "dropout_2 (Dropout)          (None, 9)                 0         \n",
      "_________________________________________________________________\n",
      "dense_4 (Dense)              (None, 4)                 40        \n",
      "=================================================================\n",
      "Total params: 300,721\n",
      "Trainable params: 300,721\n",
      "Non-trainable params: 0\n",
      "_________________________________________________________________\n"
     ]
    }
   ],
   "source": [
    "model.summary()"
   ]
  },
  {
   "cell_type": "code",
   "execution_count": 38,
   "id": "ongoing-headset",
   "metadata": {},
   "outputs": [
    {
     "data": {
      "image/png": "[encoded data removed]",
      "text/plain": [
       "<Figure size 432x288 with 1 Axes>"
      ]
     },
     "metadata": {
      "needs_background": "light"
     },
     "output_type": "display_data"
    },
    {
     "data": {
      "image/png": "[encoded data removed]",
      "text/plain": [
       "<Figure size 432x288 with 1 Axes>"
      ]
     },
     "metadata": {
      "needs_background": "light"
     },
     "output_type": "display_data"
    }
   ],
   "source": [
    "plt.plot(history.history['loss'], label='train')\n",
    "plt.plot(history.history['val_loss'], label='validation')\n",
    "plt.title('Loss')\n",
    "plt.legend();\n",
    "plt.show()\n",
    "\n",
    "plt.plot(history.history['acc'], label='train')\n",
    "plt.plot(history.history['val_acc'], label='validation')\n",
    "plt.title('Acc')\n",
    "plt.legend();\n",
    "plt.show()"
   ]
  },
  {
   "cell_type": "code",
   "execution_count": 39,
   "id": "adjustable-vessel",
   "metadata": {},
   "outputs": [
    {
     "name": "stdout",
     "output_type": "stream",
     "text": [
      "26/26 [==============================] - 0s 12ms/step - loss: 1.1759 - acc: 0.6236\n"
     ]
    },
    {
     "data": {
      "text/plain": [
       "[1.1759334802627563, 0.6236025094985962]"
      ]
     },
     "execution_count": 39,
     "metadata": {},
     "output_type": "execute_result"
    }
   ],
   "source": [
    "model.evaluate(input_test, y_test)"
   ]
  },
  {
   "cell_type": "code",
   "execution_count": 40,
   "id": "aggressive-exhibit",
   "metadata": {},
   "outputs": [
    {
     "data": {
      "image/png": "[encoded data removed]",
      "text/plain": [
       "<Figure size 864x576 with 2 Axes>"
      ]
     },
     "metadata": {
      "needs_background": "light"
     },
     "output_type": "display_data"
    }
   ],
   "source": [
    "Y_test = np.argmax(y_test, axis=1) # Konverterer fra Onehot tilbake til klasse\n",
    "y_pred = np.argmax(model.predict(input_test), axis=-1)\n",
    "classes = ['Hviler', 'Bevegelse', 'Beiter', 'Dier']\n",
    "\n",
    "plt.figure(figsize=(12,8))\n",
    "plt.imshow(confusion_matrix(Y_test, y_pred), interpolation='nearest', cmap='YlOrRd')\n",
    "plt.title('Confusion matrix')\n",
    "plt.colorbar()\n",
    "tick_marks = np.arange(len(classes))\n",
    "plt.xticks(tick_marks, classes, rotation=45)\n",
    "plt.yticks(tick_marks, classes)\n",
    "plt.ylabel('True label')\n",
    "plt.xlabel('Predicted label')\n",
    "plt.tight_layout();"
   ]
  },
  {
   "cell_type": "code",
   "execution_count": null,
   "id": "lyric-receiver",
   "metadata": {},
   "outputs": [],
   "source": []
  }
 ],
 "metadata": {
  "kernelspec": {
   "display_name": "Python 3",
   "language": "python",
   "name": "python3"
  },
  "language_info": {
   "codemirror_mode": {
    "name": "ipython",
    "version": 3
   },
   "file_extension": ".py",
   "mimetype": "text/x-python",
   "name": "python",
   "nbconvert_exporter": "python",
   "pygments_lexer": "ipython3",
   "version": "3.7.9"
  }
 },
 "nbformat": 4,
 "nbformat_minor": 5
}
